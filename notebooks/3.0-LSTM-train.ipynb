{
 "cells": [
  {
   "cell_type": "code",
   "execution_count": 1,
   "id": "33a04940-d35e-4b20-9a0b-fc7f5a32478e",
   "metadata": {},
   "outputs": [],
   "source": [
    "%load_ext autoreload\n",
    "%autoreload 2"
   ]
  },
  {
   "cell_type": "code",
   "execution_count": 2,
   "id": "b2db0309-c1c2-4f06-8c36-6e23a40c9928",
   "metadata": {},
   "outputs": [],
   "source": [
    "# Добавляем путь к основной папке проекта, чтобы иметь возможность делать импорт из src\n",
    "import os\n",
    "import sys\n",
    "module_path = os.path.abspath(os.path.join('..'))\n",
    "if module_path not in sys.path:\n",
    "    sys.path.append(module_path)"
   ]
  },
  {
   "cell_type": "code",
   "execution_count": 3,
   "id": "f74b8b69-cb84-4cc2-9922-d4001885ff4f",
   "metadata": {},
   "outputs": [],
   "source": [
    "from collections import defaultdict\n",
    "from pathlib import Path\n",
    "import random\n",
    "import time\n",
    "from typing import Any, Dict, List\n",
    "\n",
    "from matplotlib import pyplot as plt\n",
    "import numpy as np\n",
    "import pandas as pd\n",
    "from pytorch_metric_learning import losses\n",
    "from pytorch_metric_learning.distances import CosineSimilarity\n",
    "import torch\n",
    "import torch.nn as nn\n",
    "import tqdm\n",
    "import wandb\n",
    "\n",
    "from src.data.nn_preprocessing import clean_company_name_string\n",
    "from src.data.lstm_dataloader import CompanyNameDataLoader\n",
    "from src.models.lstm import LSTMNetwork"
   ]
  },
  {
   "cell_type": "code",
   "execution_count": 4,
   "id": "5f8677ef-2890-4da0-bfc4-caf9e4211c34",
   "metadata": {},
   "outputs": [],
   "source": [
    "train_data = pd.read_csv('../data/processed/train_companies_for_metric_learning.csv')\n",
    "valid_data = pd.read_csv('../data/processed/valid_companies_for_metric_learning.csv')"
   ]
  },
  {
   "cell_type": "markdown",
   "id": "35a50e2f-1130-4cb0-8fc6-fc633f6f952b",
   "metadata": {},
   "source": [
    "\n",
    "# Цикл обучения"
   ]
  },
  {
   "cell_type": "code",
   "execution_count": 5,
   "id": "bfb856ba-6981-4060-9c36-513a0b2539a4",
   "metadata": {},
   "outputs": [
    {
     "data": {
      "text/plain": [
       "device(type='cuda')"
      ]
     },
     "execution_count": 5,
     "metadata": {},
     "output_type": "execute_result"
    }
   ],
   "source": [
    "contrastive_loss = losses.ContrastiveLoss(pos_margin=1, neg_margin=0, distance=CosineSimilarity())\n",
    "output_path = Path('../models')\n",
    "\n",
    "device = torch.device(\"cuda\" if torch.cuda.is_available() else \"cpu\")\n",
    "device"
   ]
  },
  {
   "cell_type": "code",
   "execution_count": 7,
   "id": "57b9d5c2-8776-4f8b-bb74-49fe1b6881fe",
   "metadata": {
    "tags": []
   },
   "outputs": [
    {
     "name": "stderr",
     "output_type": "stream",
     "text": [
      "\u001b[34m\u001b[1mwandb\u001b[0m: Currently logged in as: \u001b[33mmgurevich\u001b[0m. Use \u001b[1m`wandb login --relogin`\u001b[0m to force relogin\n"
     ]
    },
    {
     "data": {
      "text/html": [
       "Tracking run with wandb version 0.13.4"
      ],
      "text/plain": [
       "<IPython.core.display.HTML object>"
      ]
     },
     "metadata": {},
     "output_type": "display_data"
    },
    {
     "data": {
      "text/html": [
       "Run data is saved locally in <code>/home/mikhail/Documents/DL/DL_CNM_23/notebooks/wandb/run-20221023_150352-3rmllt1d</code>"
      ],
      "text/plain": [
       "<IPython.core.display.HTML object>"
      ]
     },
     "metadata": {},
     "output_type": "display_data"
    },
    {
     "data": {
      "text/html": [
       "Syncing run <strong><a href=\"https://wandb.ai/mgurevich/dl_cnp_23/runs/3rmllt1d\" target=\"_blank\">LSTM_train_80_80_3_0.0_0_stop_words</a></strong> to <a href=\"https://wandb.ai/mgurevich/dl_cnp_23\" target=\"_blank\">Weights & Biases</a> (<a href=\"https://wandb.me/run\" target=\"_blank\">docs</a>)<br/>"
      ],
      "text/plain": [
       "<IPython.core.display.HTML object>"
      ]
     },
     "metadata": {},
     "output_type": "display_data"
    },
    {
     "name": "stdout",
     "output_type": "stream",
     "text": [
      "Epoch 0\n"
     ]
    },
    {
     "name": "stderr",
     "output_type": "stream",
     "text": [
      "1096it [00:11, 99.13it/s]\n",
      "107it [00:00, 300.56it/s]\n"
     ]
    },
    {
     "name": "stdout",
     "output_type": "stream",
     "text": [
      "train loss: 0.43472485411504325, valid_loss: 0.35685104075993335\n",
      "Epoch 1\n"
     ]
    },
    {
     "name": "stderr",
     "output_type": "stream",
     "text": [
      "1096it [00:11, 93.65it/s] \n",
      "107it [00:00, 293.35it/s]\n"
     ]
    },
    {
     "name": "stdout",
     "output_type": "stream",
     "text": [
      "train loss: 0.2288205150827548, valid_loss: 0.27868598434969644\n",
      "Epoch 2\n"
     ]
    },
    {
     "name": "stderr",
     "output_type": "stream",
     "text": [
      "1096it [00:11, 96.15it/s] \n",
      "107it [00:00, 299.51it/s]\n"
     ]
    },
    {
     "name": "stdout",
     "output_type": "stream",
     "text": [
      "train loss: 0.17273355318049827, valid_loss: 0.22877967143518346\n",
      "Epoch 3\n"
     ]
    },
    {
     "name": "stderr",
     "output_type": "stream",
     "text": [
      "1096it [00:11, 95.37it/s]\n",
      "107it [00:00, 299.41it/s]\n"
     ]
    },
    {
     "name": "stdout",
     "output_type": "stream",
     "text": [
      "train loss: 0.14117190577973524, valid_loss: 0.24864941206978303\n",
      "Epoch 4\n"
     ]
    },
    {
     "name": "stderr",
     "output_type": "stream",
     "text": [
      "1096it [00:11, 94.33it/s]\n",
      "107it [00:00, 299.64it/s]\n"
     ]
    },
    {
     "name": "stdout",
     "output_type": "stream",
     "text": [
      "train loss: 0.12051873148782655, valid_loss: 0.233514806464593\n",
      "Epoch 5\n"
     ]
    },
    {
     "name": "stderr",
     "output_type": "stream",
     "text": [
      "1096it [00:11, 95.73it/s]\n",
      "107it [00:00, 321.93it/s]\n"
     ]
    },
    {
     "name": "stdout",
     "output_type": "stream",
     "text": [
      "train loss: 0.10450605075624958, valid_loss: 0.22053107100530206\n",
      "Epoch 6\n"
     ]
    },
    {
     "name": "stderr",
     "output_type": "stream",
     "text": [
      "1096it [00:11, 97.30it/s] \n",
      "107it [00:00, 299.97it/s]\n"
     ]
    },
    {
     "name": "stdout",
     "output_type": "stream",
     "text": [
      "train loss: 0.09762612885810829, valid_loss: 0.20949080776179504\n",
      "Epoch 7\n"
     ]
    },
    {
     "name": "stderr",
     "output_type": "stream",
     "text": [
      "1096it [00:11, 96.85it/s]\n",
      "107it [00:00, 308.17it/s]\n"
     ]
    },
    {
     "name": "stdout",
     "output_type": "stream",
     "text": [
      "train loss: 0.09511689951258412, valid_loss: 0.24701234931996632\n",
      "Epoch 8\n"
     ]
    },
    {
     "name": "stderr",
     "output_type": "stream",
     "text": [
      "1096it [00:11, 91.85it/s]\n",
      "107it [00:00, 307.25it/s]\n"
     ]
    },
    {
     "name": "stdout",
     "output_type": "stream",
     "text": [
      "train loss: 0.09049658676285219, valid_loss: 0.21381217187757942\n",
      "Epoch 9\n"
     ]
    },
    {
     "name": "stderr",
     "output_type": "stream",
     "text": [
      "1096it [00:11, 93.49it/s]\n",
      "107it [00:00, 321.15it/s]\n"
     ]
    },
    {
     "name": "stdout",
     "output_type": "stream",
     "text": [
      "train loss: 0.08743265605965854, valid_loss: 0.19336907130396255\n",
      "Epoch 10\n"
     ]
    },
    {
     "name": "stderr",
     "output_type": "stream",
     "text": [
      "1096it [00:11, 96.55it/s]\n",
      "107it [00:00, 305.88it/s]\n"
     ]
    },
    {
     "name": "stdout",
     "output_type": "stream",
     "text": [
      "train loss: 0.0921248224197762, valid_loss: 0.1843334998125994\n",
      "Epoch 11\n"
     ]
    },
    {
     "name": "stderr",
     "output_type": "stream",
     "text": [
      "1096it [00:11, 96.16it/s] \n",
      "107it [00:00, 303.26it/s]\n"
     ]
    },
    {
     "name": "stdout",
     "output_type": "stream",
     "text": [
      "train loss: 0.07823188918754016, valid_loss: 0.22670681636658646\n",
      "Epoch 12\n"
     ]
    },
    {
     "name": "stderr",
     "output_type": "stream",
     "text": [
      "1096it [00:11, 95.95it/s]\n",
      "107it [00:00, 321.32it/s]\n"
     ]
    },
    {
     "name": "stdout",
     "output_type": "stream",
     "text": [
      "train loss: 0.07956297962477184, valid_loss: 0.2100659932497297\n",
      "Epoch 13\n"
     ]
    },
    {
     "name": "stderr",
     "output_type": "stream",
     "text": [
      "1096it [00:11, 97.12it/s]\n",
      "107it [00:00, 298.76it/s]\n"
     ]
    },
    {
     "name": "stdout",
     "output_type": "stream",
     "text": [
      "train loss: 0.08889294068083566, valid_loss: 0.22763970418437166\n",
      "Epoch 14\n"
     ]
    },
    {
     "name": "stderr",
     "output_type": "stream",
     "text": [
      "1096it [00:11, 94.07it/s]\n",
      "107it [00:00, 299.01it/s]\n"
     ]
    },
    {
     "name": "stdout",
     "output_type": "stream",
     "text": [
      "train loss: 0.08123524709158352, valid_loss: 0.21077068090421436\n",
      "Epoch 15\n"
     ]
    },
    {
     "name": "stderr",
     "output_type": "stream",
     "text": [
      "1096it [00:11, 96.19it/s] \n",
      "107it [00:00, 300.38it/s]\n"
     ]
    },
    {
     "name": "stdout",
     "output_type": "stream",
     "text": [
      "train loss: 0.07701680902476647, valid_loss: 0.21848768125251197\n",
      "Epoch 16\n"
     ]
    },
    {
     "name": "stderr",
     "output_type": "stream",
     "text": [
      "1096it [00:11, 93.14it/s]\n",
      "107it [00:00, 320.63it/s]\n"
     ]
    },
    {
     "name": "stdout",
     "output_type": "stream",
     "text": [
      "train loss: 0.07434990599649344, valid_loss: 0.1891397076537049\n",
      "Epoch 17\n"
     ]
    },
    {
     "name": "stderr",
     "output_type": "stream",
     "text": [
      "1096it [00:11, 94.24it/s]\n",
      "107it [00:00, 301.62it/s]\n"
     ]
    },
    {
     "name": "stdout",
     "output_type": "stream",
     "text": [
      "train loss: 0.0686096438345958, valid_loss: 0.17697967766462086\n",
      "Epoch 18\n"
     ]
    },
    {
     "name": "stderr",
     "output_type": "stream",
     "text": [
      "1096it [00:11, 96.15it/s]\n",
      "107it [00:00, 298.85it/s]\n"
     ]
    },
    {
     "name": "stdout",
     "output_type": "stream",
     "text": [
      "train loss: 0.0678343432727871, valid_loss: 0.20008771242922016\n",
      "Epoch 19\n"
     ]
    },
    {
     "name": "stderr",
     "output_type": "stream",
     "text": [
      "1096it [00:11, 95.51it/s]\n",
      "107it [00:00, 308.11it/s]\n"
     ]
    },
    {
     "name": "stdout",
     "output_type": "stream",
     "text": [
      "train loss: 0.06578497065535625, valid_loss: 0.22071510028294244\n"
     ]
    },
    {
     "data": {
      "text/html": [
       "Waiting for W&B process to finish... <strong style=\"color:green\">(success).</strong>"
      ],
      "text/plain": [
       "<IPython.core.display.HTML object>"
      ]
     },
     "metadata": {},
     "output_type": "display_data"
    },
    {
     "data": {
      "application/vnd.jupyter.widget-view+json": {
       "model_id": "1bd3f0cc9b974430b5a5f8263d5faa31",
       "version_major": 2,
       "version_minor": 0
      },
      "text/plain": [
       "VBox(children=(Label(value='0.001 MB of 0.001 MB uploaded (0.000 MB deduped)\\r'), FloatProgress(value=1.0, max…"
      ]
     },
     "metadata": {},
     "output_type": "display_data"
    },
    {
     "data": {
      "text/html": [
       "<style>\n",
       "    table.wandb td:nth-child(1) { padding: 0 10px; text-align: left ; width: auto;} td:nth-child(2) {text-align: left ; width: 100%}\n",
       "    .wandb-row { display: flex; flex-direction: row; flex-wrap: wrap; justify-content: flex-start; width: 100% }\n",
       "    .wandb-col { display: flex; flex-direction: column; flex-basis: 100%; flex: 1; padding: 10px; }\n",
       "    </style>\n",
       "<div class=\"wandb-row\"><div class=\"wandb-col\"><h3>Run history:</h3><br/><table class=\"wandb\"><tr><td>train_loss</td><td>█▄▃▂▂▂▂▂▁▁▁▁▁▁▁▁▁▁▁▁</td></tr><tr><td>valid_loss</td><td>█▅▃▄▃▃▂▄▂▂▁▃▂▃▂▃▁▁▂▃</td></tr></table><br/></div><div class=\"wandb-col\"><h3>Run summary:</h3><br/><table class=\"wandb\"><tr><td>train_loss</td><td>0.06578</td></tr><tr><td>valid_loss</td><td>0.22072</td></tr></table><br/></div></div>"
      ],
      "text/plain": [
       "<IPython.core.display.HTML object>"
      ]
     },
     "metadata": {},
     "output_type": "display_data"
    },
    {
     "data": {
      "text/html": [
       "Synced <strong style=\"color:#cdcd00\">LSTM_train_80_80_3_0.0_0_stop_words</strong>: <a href=\"https://wandb.ai/mgurevich/dl_cnp_23/runs/3rmllt1d\" target=\"_blank\">https://wandb.ai/mgurevich/dl_cnp_23/runs/3rmllt1d</a><br/>Synced 5 W&B file(s), 0 media file(s), 0 artifact file(s) and 0 other file(s)"
      ],
      "text/plain": [
       "<IPython.core.display.HTML object>"
      ]
     },
     "metadata": {},
     "output_type": "display_data"
    },
    {
     "data": {
      "text/html": [
       "Find logs at: <code>./wandb/run-20221023_150352-3rmllt1d/logs</code>"
      ],
      "text/plain": [
       "<IPython.core.display.HTML object>"
      ]
     },
     "metadata": {},
     "output_type": "display_data"
    }
   ],
   "source": [
    "lr = 1e-3\n",
    "emb_dim = 80\n",
    "hidden_size = 80\n",
    "num_layers = 3\n",
    "dropout = 0.0\n",
    "batch_size = 16\n",
    "proj_size = 0\n",
    "exp_name = f'LSTM_train_{emb_dim}_{hidden_size}_{num_layers}_{dropout}_{proj_size}_stop_words'\n",
    "\n",
    "config = dict (\n",
    "    learning_rate = lr,\n",
    "    architecture = \"LSTM\",\n",
    "    batch_size = batch_size,\n",
    "    hidden_size = hidden_size,\n",
    "    num_layers = num_layers\n",
    ")\n",
    "\n",
    "wandb.init(\n",
    "  project='dl_cnp_23',\n",
    "  name=exp_name,\n",
    "  config=config,\n",
    ")\n",
    "\n",
    "train_dataloader = CompanyNameDataLoader(train_data, shuffle=True, preprocessing=clean_company_name_string)\n",
    "valid_dataloader = CompanyNameDataLoader(valid_data, shuffle=False, preprocessing=clean_company_name_string)\n",
    "\n",
    "net = LSTMNetwork(emb_dim=emb_dim,\n",
    "                  hidden_size=hidden_size,\n",
    "                  num_layers=num_layers,\n",
    "                  dropout=dropout,\n",
    "                  proj_size=proj_size).to(device)\n",
    "optimizer = torch.optim.Adam(net.parameters(), lr=0.001)\n",
    "best_valid_loss = np.inf\n",
    "\n",
    "for epoch in range(20):\n",
    "    print(f'Epoch {epoch}')\n",
    "    train_losses = []\n",
    "    for batch in tqdm.tqdm(train_dataloader):\n",
    "        optimizer.zero_grad()\n",
    "        pairs = zip(batch[0], batch[1])\n",
    "        sorted_pair = sorted(pairs, key=lambda x: len(x[0]), reverse=True)\n",
    "        x, y = zip(*sorted_pair)\n",
    "        pred = net(x)\n",
    "        loss = contrastive_loss(pred, torch.Tensor(y).to(device))\n",
    "        loss.backward()\n",
    "        train_losses.append(loss.item())\n",
    "        optimizer.step()\n",
    "    train_loss = np.mean(train_losses)\n",
    "    time.sleep(0.5)\n",
    "    valid_losses = []\n",
    "    for batch in tqdm.tqdm(valid_dataloader):\n",
    "        pairs = zip(batch[0], batch[1])\n",
    "        sorted_pair = sorted(pairs, key=lambda x: len(x[0]), reverse=True)\n",
    "        x, y = zip(*sorted_pair)\n",
    "        with torch.no_grad():\n",
    "            pred = net(x)\n",
    "            loss = contrastive_loss(pred, torch.Tensor(y).to(device))\n",
    "        valid_losses.append(loss.item())\n",
    "    valid_loss = np.mean(valid_losses)\n",
    "    print(f'train loss: {train_loss}, valid_loss: {valid_loss}')\n",
    "    wandb.log({'train_loss': train_loss, 'valid_loss': valid_loss}, step=epoch)\n",
    "    if valid_loss < best_valid_loss:\n",
    "        best_valid_loss = valid_loss\n",
    "        torch.save(net.state_dict(), output_path / f'{exp_name}_best.pth')\n",
    "    time.sleep(0.5)\n",
    "\n",
    "wandb.finish()"
   ]
  },
  {
   "cell_type": "code",
   "execution_count": null,
   "id": "4cb09e07-2949-47ef-836c-a08f589e8e5f",
   "metadata": {},
   "outputs": [],
   "source": []
  }
 ],
 "metadata": {
  "kernelspec": {
   "display_name": "Python 3 (ipykernel)",
   "language": "python",
   "name": "python3"
  },
  "language_info": {
   "codemirror_mode": {
    "name": "ipython",
    "version": 3
   },
   "file_extension": ".py",
   "mimetype": "text/x-python",
   "name": "python",
   "nbconvert_exporter": "python",
   "pygments_lexer": "ipython3",
   "version": "3.10.7"
  }
 },
 "nbformat": 4,
 "nbformat_minor": 5
}
