{
 "cells": [
  {
   "cell_type": "code",
   "execution_count": 1,
   "id": "33a04940-d35e-4b20-9a0b-fc7f5a32478e",
   "metadata": {},
   "outputs": [],
   "source": [
    "%load_ext autoreload\n",
    "%autoreload 2"
   ]
  },
  {
   "cell_type": "code",
   "execution_count": 2,
   "id": "f74b8b69-cb84-4cc2-9922-d4001885ff4f",
   "metadata": {},
   "outputs": [],
   "source": [
    "from collections import defaultdict\n",
    "from pathlib import Path\n",
    "import random\n",
    "import time\n",
    "from typing import Any, Dict, List\n",
    "\n",
    "from matplotlib import pyplot as plt\n",
    "import numpy as np\n",
    "import pandas as pd\n",
    "from sklearn.model_selection import train_test_split\n",
    "import torch\n",
    "import torch.nn as nn\n",
    "import tqdm\n",
    "import wandb\n",
    "\n",
    "from src.data.rnn_preprocessing import clean_company_name_string\n",
    "\n",
    "# Добавляем путь к основной папке проекта, чтобы иметь возможность делать импорт из src\n",
    "import os\n",
    "import sys\n",
    "module_path = os.path.abspath(os.path.join('..'))\n",
    "if module_path not in sys.path:\n",
    "    sys.path.append(module_path)"
   ]
  },
  {
   "cell_type": "code",
   "execution_count": 3,
   "id": "43b36e61-6f46-4e6b-b629-90acdc7affce",
   "metadata": {},
   "outputs": [
    {
     "data": {
      "text/html": [
       "<div>\n",
       "<style scoped>\n",
       "    .dataframe tbody tr th:only-of-type {\n",
       "        vertical-align: middle;\n",
       "    }\n",
       "\n",
       "    .dataframe tbody tr th {\n",
       "        vertical-align: top;\n",
       "    }\n",
       "\n",
       "    .dataframe thead th {\n",
       "        text-align: right;\n",
       "    }\n",
       "</style>\n",
       "<table border=\"1\" class=\"dataframe\">\n",
       "  <thead>\n",
       "    <tr style=\"text-align: right;\">\n",
       "      <th></th>\n",
       "      <th>pair_id</th>\n",
       "      <th>name_1</th>\n",
       "      <th>name_2</th>\n",
       "      <th>is_duplicate</th>\n",
       "    </tr>\n",
       "  </thead>\n",
       "  <tbody>\n",
       "    <tr>\n",
       "      <th>0</th>\n",
       "      <td>1</td>\n",
       "      <td>Iko Industries Ltd.</td>\n",
       "      <td>Enormous Industrial Trade Pvt., Ltd.</td>\n",
       "      <td>0</td>\n",
       "    </tr>\n",
       "    <tr>\n",
       "      <th>1</th>\n",
       "      <td>2</td>\n",
       "      <td>Apcotex Industries Ltd.</td>\n",
       "      <td>Technocraft Industries (India) Ltd.</td>\n",
       "      <td>0</td>\n",
       "    </tr>\n",
       "    <tr>\n",
       "      <th>2</th>\n",
       "      <td>3</td>\n",
       "      <td>Rishichem Distributors Pvt., Ltd.</td>\n",
       "      <td>Dsa</td>\n",
       "      <td>0</td>\n",
       "    </tr>\n",
       "    <tr>\n",
       "      <th>3</th>\n",
       "      <td>4</td>\n",
       "      <td>Powermax Rubber Factory</td>\n",
       "      <td>Co. One</td>\n",
       "      <td>0</td>\n",
       "    </tr>\n",
       "    <tr>\n",
       "      <th>4</th>\n",
       "      <td>5</td>\n",
       "      <td>Tress A/S</td>\n",
       "      <td>Longyou Industries Park Zhejiang</td>\n",
       "      <td>0</td>\n",
       "    </tr>\n",
       "  </tbody>\n",
       "</table>\n",
       "</div>"
      ],
      "text/plain": [
       "   pair_id                             name_1  \\\n",
       "0        1                Iko Industries Ltd.   \n",
       "1        2            Apcotex Industries Ltd.   \n",
       "2        3  Rishichem Distributors Pvt., Ltd.   \n",
       "3        4            Powermax Rubber Factory   \n",
       "4        5                          Tress A/S   \n",
       "\n",
       "                                 name_2  is_duplicate  \n",
       "0  Enormous Industrial Trade Pvt., Ltd.             0  \n",
       "1   Technocraft Industries (India) Ltd.             0  \n",
       "2                                   Dsa             0  \n",
       "3                               Co. One             0  \n",
       "4      Longyou Industries Park Zhejiang             0  "
      ]
     },
     "execution_count": 3,
     "metadata": {},
     "output_type": "execute_result"
    }
   ],
   "source": [
    "data = pd.read_csv('../data/raw/train.csv')\n",
    "data.head()"
   ]
  },
  {
   "cell_type": "markdown",
   "id": "086c8bef-1944-4303-9a96-382b855f91a8",
   "metadata": {},
   "source": [
    "## 1. Разбиваем на train/test также, как Петр Корчагин (для сравнимости)"
   ]
  },
  {
   "cell_type": "code",
   "execution_count": 4,
   "id": "5fd9ca9d-2053-4a76-9605-415483417278",
   "metadata": {},
   "outputs": [],
   "source": [
    "X = data.drop(['is_duplicate'], axis = 1)\n",
    "y = data.is_duplicate\n",
    "\n",
    "X_train, X_test, y_train, y_test = train_test_split(\n",
    "    X,\n",
    "    y,\n",
    "    random_state = 666,\n",
    "    stratify = y,\n",
    "    test_size = 0.2\n",
    ")\n",
    "\n",
    "X_train['is_duplicate'] = y_train\n",
    "X_test['is_duplicate'] = y_test"
   ]
  },
  {
   "cell_type": "markdown",
   "id": "447285b7-b231-4209-846e-96f81c5358aa",
   "metadata": {},
   "source": [
    "## 2. Очистим названия компаний из train/test раздельно"
   ]
  },
  {
   "cell_type": "code",
   "execution_count": 5,
   "id": "19c9e08d-89ae-43ac-a58b-b1f38c27621f",
   "metadata": {},
   "outputs": [],
   "source": [
    "# Очистим названия \n",
    "\n",
    "train_names = sorted(set(list(X_train['name_1'].values) + list(X_train['name_2'].values)))\n",
    "clean_train_names = [clean_company_name_string(name) for name in train_names]\n",
    "\n",
    "test_names = sorted(set(list(X_test['name_1'].values) + list(X_test['name_2'].values)))\n",
    "clean_test_names = [clean_company_name_string(name) for name in test_names]"
   ]
  },
  {
   "cell_type": "code",
   "execution_count": 6,
   "id": "0dd3d32d-2d8d-403e-820b-a8a5f1d4dbf7",
   "metadata": {},
   "outputs": [],
   "source": [
    "clean_train_characters = set()\n",
    "for name in clean_train_names:\n",
    "    clean_train_characters.update(name.lower())"
   ]
  },
  {
   "cell_type": "markdown",
   "id": "9acc045b-7c2f-4f8d-905c-5ee87c0816f5",
   "metadata": {},
   "source": [
    "#### Символы после очистки:"
   ]
  },
  {
   "cell_type": "code",
   "execution_count": 7,
   "id": "e66e7a89-87f1-4be7-8973-7a0f6373c423",
   "metadata": {
    "scrolled": true,
    "tags": []
   },
   "outputs": [
    {
     "data": {
      "text/plain": [
       "{' ',\n",
       " \"'\",\n",
       " '0',\n",
       " '1',\n",
       " '2',\n",
       " '3',\n",
       " '4',\n",
       " '5',\n",
       " '6',\n",
       " '7',\n",
       " '8',\n",
       " '9',\n",
       " 'a',\n",
       " 'b',\n",
       " 'c',\n",
       " 'd',\n",
       " 'e',\n",
       " 'f',\n",
       " 'g',\n",
       " 'h',\n",
       " 'i',\n",
       " 'j',\n",
       " 'k',\n",
       " 'l',\n",
       " 'm',\n",
       " 'n',\n",
       " 'o',\n",
       " 'p',\n",
       " 'q',\n",
       " 'r',\n",
       " 's',\n",
       " 't',\n",
       " 'u',\n",
       " 'v',\n",
       " 'w',\n",
       " 'x',\n",
       " 'y',\n",
       " 'z'}"
      ]
     },
     "execution_count": 7,
     "metadata": {},
     "output_type": "execute_result"
    }
   ],
   "source": [
    "clean_train_characters"
   ]
  },
  {
   "cell_type": "markdown",
   "id": "5b305caf-5158-4345-af2a-f29280eafa48",
   "metadata": {},
   "source": [
    "#### остались только цифры, английский алфавит, проблем и \"'\" - апостроф - это последствия транслитерации с русского языка (пока оставим так)"
   ]
  },
  {
   "cell_type": "code",
   "execution_count": 8,
   "id": "eb7b2354-8dd7-4a0c-88c7-4108e0c1ba66",
   "metadata": {},
   "outputs": [
    {
     "name": "stdout",
     "output_type": "stream",
     "text": [
      "Всего различных символов: 38\n"
     ]
    }
   ],
   "source": [
    "print(f'Всего различных символов: {len(clean_train_characters)}')"
   ]
  },
  {
   "cell_type": "markdown",
   "id": "d30280c6-26e7-41a9-8db3-19438bdade4e",
   "metadata": {},
   "source": [
    "#### добавим pad symbol (0) и на всякий случай символ unknown (39)"
   ]
  },
  {
   "cell_type": "code",
   "execution_count": 9,
   "id": "f690effc-9ff2-4413-bddb-50ce3d15cc4e",
   "metadata": {},
   "outputs": [
    {
     "name": "stdout",
     "output_type": "stream",
     "text": [
      "Всего на вход NN будут подаваться векторы длиной 40\n"
     ]
    }
   ],
   "source": [
    "num_symbols = len(clean_train_characters) + 2\n",
    "print(f'Всего на вход NN будут подаваться векторы длиной {num_symbols}')"
   ]
  },
  {
   "cell_type": "markdown",
   "id": "ebcd1b71-98da-4fd7-bf13-a9b0208883e1",
   "metadata": {},
   "source": [
    "# Разобьем кластеризованные данные о компаниях на train и valid"
   ]
  },
  {
   "cell_type": "code",
   "execution_count": 10,
   "id": "f1fe19f5-c1cd-425e-810a-cf99c8c4b475",
   "metadata": {},
   "outputs": [
    {
     "data": {
      "text/html": [
       "<div>\n",
       "<style scoped>\n",
       "    .dataframe tbody tr th:only-of-type {\n",
       "        vertical-align: middle;\n",
       "    }\n",
       "\n",
       "    .dataframe tbody tr th {\n",
       "        vertical-align: top;\n",
       "    }\n",
       "\n",
       "    .dataframe thead th {\n",
       "        text-align: right;\n",
       "    }\n",
       "</style>\n",
       "<table border=\"1\" class=\"dataframe\">\n",
       "  <thead>\n",
       "    <tr style=\"text-align: right;\">\n",
       "      <th></th>\n",
       "      <th>name</th>\n",
       "      <th>cluster</th>\n",
       "    </tr>\n",
       "  </thead>\n",
       "  <tbody>\n",
       "    <tr>\n",
       "      <th>0</th>\n",
       "      <td>Alfagomma</td>\n",
       "      <td>0</td>\n",
       "    </tr>\n",
       "    <tr>\n",
       "      <th>1</th>\n",
       "      <td>LANXESS Inc.</td>\n",
       "      <td>-1</td>\n",
       "    </tr>\n",
       "    <tr>\n",
       "      <th>2</th>\n",
       "      <td>Lanxess Accounting GmbH</td>\n",
       "      <td>-1</td>\n",
       "    </tr>\n",
       "    <tr>\n",
       "      <th>3</th>\n",
       "      <td>Lanxess International Trading (Shanghai) Co.,...</td>\n",
       "      <td>-1</td>\n",
       "    </tr>\n",
       "    <tr>\n",
       "      <th>4</th>\n",
       "      <td>Lanxess Sas</td>\n",
       "      <td>-1</td>\n",
       "    </tr>\n",
       "  </tbody>\n",
       "</table>\n",
       "</div>"
      ],
      "text/plain": [
       "                                                name  cluster\n",
       "0                                          Alfagomma        0\n",
       "1                                       LANXESS Inc.       -1\n",
       "2                            Lanxess Accounting GmbH       -1\n",
       "3   Lanxess International Trading (Shanghai) Co.,...       -1\n",
       "4                                        Lanxess Sas       -1"
      ]
     },
     "execution_count": 10,
     "metadata": {},
     "output_type": "execute_result"
    }
   ],
   "source": [
    "train_companies = pd.read_csv('../data/processed/X_train_companies_with_clusters.csv')\n",
    "train_companies.head()"
   ]
  },
  {
   "cell_type": "code",
   "execution_count": 11,
   "id": "534357af-a7b5-49fd-9e61-a978dbd6bad3",
   "metadata": {},
   "outputs": [],
   "source": [
    "from sklearn.model_selection import GroupShuffleSplit \n",
    "from sklearn.model_selection import train_test_split\n",
    "\n",
    "valid_share = 0.1\n",
    "\n",
    "# Разбиваем часть датасета, где известны кластеры\n",
    "train_companies_with_clusters = train_companies[train_companies['cluster'] != -1]\n",
    "splitter = GroupShuffleSplit(test_size=valid_share, n_splits=1, random_state = 2205)\n",
    "split = splitter.split(train_companies_with_clusters, groups=train_companies_with_clusters['cluster'])\n",
    "train_inds, valid_inds = next(split)\n",
    "\n",
    "train_with_clusters = train_companies_with_clusters.iloc[train_inds]\n",
    "valid_with_clusters = train_companies_with_clusters.iloc[valid_inds]\n",
    "\n",
    "# Разделяем часть датасета, где нет известных кластеров\n",
    "train_companies_with_clusters = train_companies[train_companies['cluster'] == -1]\n",
    "train_no_clusters, valid_no_clusters = train_test_split(\n",
    "    train_companies_with_clusters,\n",
    "    random_state = 2205,\n",
    "    test_size = valid_share\n",
    ")"
   ]
  },
  {
   "cell_type": "code",
   "execution_count": 12,
   "id": "5f8677ef-2890-4da0-bfc4-caf9e4211c34",
   "metadata": {},
   "outputs": [],
   "source": [
    "train_data = pd.concat([train_with_clusters, train_no_clusters]).reset_index(drop=True)\n",
    "valid_data = pd.concat([valid_with_clusters, valid_no_clusters]).reset_index(drop=True)\n",
    "\n",
    "train_data.to_csv('../data/processed/train_companies_for_metric_learning.csv', index=False)\n",
    "valid_data.to_csv('../data/processed/valid_companies_for_metric_learning.csv', index=False)"
   ]
  },
  {
   "cell_type": "code",
   "execution_count": 13,
   "id": "706c8550-97f5-4ca1-b5e0-4f569b0037e5",
   "metadata": {},
   "outputs": [],
   "source": [
    "characters = [' ', \"'\", '0', '1', '2',\n",
    "              '3', '4', '5', '6', '7',\n",
    "              '8', '9', 'a', 'b', 'c',\n",
    "              'd', 'e', 'f', 'g', 'h',\n",
    "              'i', 'j', 'k', 'l', 'm',\n",
    "              'n', 'o', 'p', 'q', 'r',\n",
    "              's', 't', 'u', 'v', 'w',\n",
    "              'x', 'y', 'z']\n",
    "              \n",
    "char_dict = {v: k + 1 for k, v in enumerate(characters)}\n",
    "\n",
    "def encode_string(s: str, char_dict=char_dict) -> torch.LongTensor:\n",
    "    n_chars = len(char_dict) + 2\n",
    "    unknown = len(char_dict) + 1\n",
    "    idxs = torch.LongTensor([char_dict.get(c, unknown) for c in s])\n",
    "    return idxs"
   ]
  },
  {
   "cell_type": "code",
   "execution_count": 24,
   "id": "983283ec-cc68-4f8d-847e-9a02f43c0843",
   "metadata": {},
   "outputs": [],
   "source": [
    "class LSTMNetwork(nn.Module):\n",
    "    def __init__(self,\n",
    "                 chars: Dict[str, int],\n",
    "                 emb_dim: int = 20,\n",
    "                 hidden_size = 100,\n",
    "                 num_layers: int = 1,\n",
    "                 dropout: float = 0.0):\n",
    "        super(LSTMNetwork, self).__init__()\n",
    "        self.chars = chars\n",
    "        self.hidden_size = hidden_size\n",
    "        self.emb = nn.Embedding(len(self.chars) + 2, emb_dim)\n",
    "        self.LSTM = nn.LSTM(input_size=emb_dim,\n",
    "                            hidden_size=self.hidden_size,\n",
    "                            num_layers=num_layers,\n",
    "                            bidirectional=True,\n",
    "                            dropout=dropout)\n",
    "        \n",
    "    def emb_packed_sequence(self, packed_sequence):\n",
    "        return torch.nn.utils.rnn.PackedSequence(self.emb(packed_sequence.data), packed_sequence.batch_sizes)\n",
    "        \n",
    "    def forward(self, x: List[str]):\n",
    "        # Кодируем текст в соответствии со словарем символов\n",
    "        encoded = [encode_string(el) for el in x]\n",
    "        text_lengths = np.array([len(el) for el in x])\n",
    "        \n",
    "        # добавляем паддинг + упаковываем\n",
    "        padded_encoded = torch.nn.utils.rnn.pad_sequence(encoded).to(device)\n",
    "        packed_encoded = torch.nn.utils.rnn.pack_padded_sequence(padded_encoded, text_lengths)\n",
    "        \n",
    "        # пропускаем через слой с эмбеддингами и LSTM\n",
    "        packed_emb = self.emb_packed_sequence(packed_encoded)\n",
    "        packed_lstm_output, _ = self.LSTM(packed_emb)\n",
    "        output, _ = torch.nn.utils.rnn.pad_packed_sequence(packed_lstm_output)\n",
    "\n",
    "        # собираем представление текста с учетом реальной длины исходного текста\n",
    "        fwd_state = output[text_lengths - 1, range(len(text_lengths)), :self.hidden_size]\n",
    "        rev_state = output[0, :, :self.hidden_size]\n",
    "        output = torch.cat((fwd_state, rev_state), 1)\n",
    "        \n",
    "        return output"
   ]
  },
  {
   "cell_type": "code",
   "execution_count": 15,
   "id": "cadcba8d-63d9-485a-9f45-54be1c67c9b1",
   "metadata": {},
   "outputs": [],
   "source": [
    "class CompanyNameDataLoader:\n",
    "    ''' Класс с функционалом DataLoader'а - проходим по датасету с заданным размером батча, в каждом батче:\n",
    "        - 1 опорный элемент\n",
    "        - 1 элемент из того же кластера - positive\n",
    "        - batch_size - 2 элемента из других классов - negative \n",
    "    '''\n",
    "    def __init__(self, data, shuffle: bool = True, batch_size: int = 16, preprocessing: Any=None):\n",
    "        self.data = data\n",
    "        self.shuffle = shuffle\n",
    "        self.batch_size = batch_size\n",
    "        self.preprocessing = preprocessing\n",
    "        # Опорные items - проход будет заключаться в проходе по всем таким названиям\n",
    "        self.basis_items = data[data['cluster'] != -1]['name'].values\n",
    "        if self.shuffle:\n",
    "            random.shuffle(self.basis_items)\n",
    "        self.size = len(self.basis_items)\n",
    "        \n",
    "        # Подготовим кластеры для выбора positive items\n",
    "        data_with_clusters = self.data[self.data['cluster'] != -1].reset_index(drop=True)\n",
    "        clusters = defaultdict(list)\n",
    "        for i, row in data_with_clusters.iterrows():\n",
    "            clusters[row['cluster']].append(row['name'])\n",
    "        self.clusters = clusters\n",
    "        \n",
    "        # Список негативных элементов\n",
    "        random.seed(2205)\n",
    "        self.negative = list(data[data['cluster'] == -1]['name'].values)\n",
    "        random.shuffle(self.negative)\n",
    "        random.seed()\n",
    "        \n",
    "    def __iter__(self):\n",
    "        self.idx = 0\n",
    "        self.negative_idx = 0\n",
    "        return self\n",
    "    \n",
    "    def __next__(self):\n",
    "        if self.idx == self.size:\n",
    "            raise StopIteration\n",
    "        item = self.basis_items[self.idx]\n",
    "        cluster_id = self.data[self.data['name'] == item]['cluster'].iloc[0]\n",
    "        cluster = self.clusters[cluster_id]\n",
    "        positive_candidates = set(cluster) - set([item])\n",
    "        if self.shuffle:\n",
    "            positive_item = random.choice(tuple(positive_candidates))\n",
    "        else:\n",
    "            positive_item = sorted(positive_candidates)[-1]\n",
    "        \n",
    "        if self.shuffle:\n",
    "            negative_items = random.sample(self.negative, self.batch_size - 2)\n",
    "        else:\n",
    "            negative_items = self.negative[self.negative_idx: self.negative_idx + self.batch_size - 2]\n",
    "            self.negative_idx += self.batch_size - 2\n",
    "            if self.negative_idx >= len(self.negative):\n",
    "                self.negative_idx = 0\n",
    "                \n",
    "        self.idx += 1\n",
    "        \n",
    "        if self.preprocessing is not None:\n",
    "            item = self.preprocessing(item)\n",
    "            positive_item = self.preprocessing(positive_item)\n",
    "            negative_items = [self.preprocessing(s) for s in negative_items]\n",
    "            \n",
    "        labels = list(range(self.batch_size))\n",
    "        labels[0] = 1\n",
    "        labels[1] = 1\n",
    "        \n",
    "        return [item, positive_item] + negative_items, labels"
   ]
  },
  {
   "cell_type": "code",
   "execution_count": 16,
   "id": "203f1651-d1da-49b8-9c1f-411cfbfe1aab",
   "metadata": {
    "tags": []
   },
   "outputs": [],
   "source": [
    "# dl = CompanyNameDataLoader(train_companies, shuffle=True, preprocessing=clean_company_name_string)\n",
    "# a = iter(dl)\n",
    "# next(a)"
   ]
  },
  {
   "cell_type": "code",
   "execution_count": 17,
   "id": "222f23c2-f772-4e3c-aad5-4ee671dd7426",
   "metadata": {},
   "outputs": [],
   "source": [
    "# batch = next(a)\n",
    "# batch"
   ]
  },
  {
   "cell_type": "code",
   "execution_count": 18,
   "id": "20a2aefd-661e-45c2-931a-88e531751670",
   "metadata": {},
   "outputs": [],
   "source": [
    "from pytorch_metric_learning import losses\n",
    "from pytorch_metric_learning.distances import CosineSimilarity"
   ]
  },
  {
   "cell_type": "code",
   "execution_count": 19,
   "id": "b9bf1bdb-35ae-4638-bd61-3b2f61ef601c",
   "metadata": {},
   "outputs": [],
   "source": [
    "contrastive_loss = losses.ContrastiveLoss(pos_margin=1, neg_margin=0, distance=CosineSimilarity())"
   ]
  },
  {
   "cell_type": "markdown",
   "id": "35a50e2f-1130-4cb0-8fc6-fc633f6f952b",
   "metadata": {},
   "source": [
    "# Цикл обучения"
   ]
  },
  {
   "cell_type": "code",
   "execution_count": 20,
   "id": "bfb856ba-6981-4060-9c36-513a0b2539a4",
   "metadata": {},
   "outputs": [
    {
     "data": {
      "text/plain": [
       "device(type='cuda')"
      ]
     },
     "execution_count": 20,
     "metadata": {},
     "output_type": "execute_result"
    }
   ],
   "source": [
    "device = torch.device(\"cuda\" if torch.cuda.is_available() else \"cpu\")\n",
    "device"
   ]
  },
  {
   "cell_type": "code",
   "execution_count": 21,
   "id": "f318b38d-0987-4dc5-83e5-e88aae675d54",
   "metadata": {},
   "outputs": [],
   "source": [
    "output_path = Path('../models')"
   ]
  },
  {
   "cell_type": "code",
   "execution_count": 28,
   "id": "57b9d5c2-8776-4f8b-bb74-49fe1b6881fe",
   "metadata": {
    "tags": []
   },
   "outputs": [
    {
     "data": {
      "text/html": [
       "Tracking run with wandb version 0.13.4"
      ],
      "text/plain": [
       "<IPython.core.display.HTML object>"
      ]
     },
     "metadata": {},
     "output_type": "display_data"
    },
    {
     "data": {
      "text/html": [
       "Run data is saved locally in <code>/home/mikhail/Documents/DL/DL_CNM_23/notebooks/wandb/run-20221022_195543-jswclup1</code>"
      ],
      "text/plain": [
       "<IPython.core.display.HTML object>"
      ]
     },
     "metadata": {},
     "output_type": "display_data"
    },
    {
     "data": {
      "text/html": [
       "Syncing run <strong><a href=\"https://wandb.ai/mgurevich/dl_cnp_23/runs/jswclup1\" target=\"_blank\">LSTM_40_40_3_0.0</a></strong> to <a href=\"https://wandb.ai/mgurevich/dl_cnp_23\" target=\"_blank\">Weights & Biases</a> (<a href=\"https://wandb.me/run\" target=\"_blank\">docs</a>)<br/>"
      ],
      "text/plain": [
       "<IPython.core.display.HTML object>"
      ]
     },
     "metadata": {},
     "output_type": "display_data"
    },
    {
     "name": "stdout",
     "output_type": "stream",
     "text": [
      "Epoch 0\n"
     ]
    },
    {
     "name": "stderr",
     "output_type": "stream",
     "text": [
      "1096it [00:10, 100.79it/s]\n",
      "107it [00:00, 317.05it/s]\n"
     ]
    },
    {
     "name": "stdout",
     "output_type": "stream",
     "text": [
      "train loss: 0.5308884315899689, valid_loss: 0.5270097484098417\n",
      "Epoch 1\n"
     ]
    },
    {
     "name": "stderr",
     "output_type": "stream",
     "text": [
      "1096it [00:11, 99.25it/s] \n",
      "107it [00:00, 311.01it/s]\n"
     ]
    },
    {
     "name": "stdout",
     "output_type": "stream",
     "text": [
      "train loss: 0.29414310523845855, valid_loss: 0.5122157505878778\n",
      "Epoch 2\n"
     ]
    },
    {
     "name": "stderr",
     "output_type": "stream",
     "text": [
      "1096it [00:11, 96.12it/s] \n",
      "107it [00:00, 311.21it/s]\n"
     ]
    },
    {
     "name": "stdout",
     "output_type": "stream",
     "text": [
      "train loss: 0.22428674812353874, valid_loss: 0.4014192855803766\n",
      "Epoch 3\n"
     ]
    },
    {
     "name": "stderr",
     "output_type": "stream",
     "text": [
      "1096it [00:11, 98.49it/s] \n",
      "107it [00:00, 320.17it/s]\n"
     ]
    },
    {
     "name": "stdout",
     "output_type": "stream",
     "text": [
      "train loss: 0.18714261187893086, valid_loss: 0.39329589656162484\n",
      "Epoch 4\n"
     ]
    },
    {
     "name": "stderr",
     "output_type": "stream",
     "text": [
      "1096it [00:11, 98.73it/s] \n",
      "107it [00:00, 313.21it/s]\n"
     ]
    },
    {
     "name": "stdout",
     "output_type": "stream",
     "text": [
      "train loss: 0.18001804794830673, valid_loss: 0.49608927825900995\n",
      "Epoch 5\n"
     ]
    },
    {
     "name": "stderr",
     "output_type": "stream",
     "text": [
      "1096it [00:11, 97.21it/s] \n",
      "107it [00:00, 313.21it/s]\n"
     ]
    },
    {
     "name": "stdout",
     "output_type": "stream",
     "text": [
      "train loss: 0.16031318483024454, valid_loss: 0.4817408406149561\n",
      "Epoch 6\n"
     ]
    },
    {
     "name": "stderr",
     "output_type": "stream",
     "text": [
      "1096it [00:10, 99.88it/s] \n",
      "107it [00:00, 322.60it/s]\n"
     ]
    },
    {
     "name": "stdout",
     "output_type": "stream",
     "text": [
      "train loss: 0.15732403023229627, valid_loss: 0.38552418034349645\n",
      "Epoch 7\n"
     ]
    },
    {
     "name": "stderr",
     "output_type": "stream",
     "text": [
      "1096it [00:10, 100.78it/s]\n",
      "107it [00:00, 327.20it/s]\n"
     ]
    },
    {
     "name": "stdout",
     "output_type": "stream",
     "text": [
      "train loss: 0.12790352348017295, valid_loss: 0.3927682923309714\n",
      "Epoch 8\n"
     ]
    },
    {
     "name": "stderr",
     "output_type": "stream",
     "text": [
      "1096it [00:11, 98.28it/s] \n",
      "107it [00:00, 319.64it/s]\n"
     ]
    },
    {
     "name": "stdout",
     "output_type": "stream",
     "text": [
      "train loss: 0.12556557262479498, valid_loss: 0.44286485395838165\n",
      "Epoch 9\n"
     ]
    },
    {
     "name": "stderr",
     "output_type": "stream",
     "text": [
      "1096it [00:11, 98.09it/s] \n",
      "107it [00:00, 309.62it/s]\n"
     ]
    },
    {
     "name": "stdout",
     "output_type": "stream",
     "text": [
      "train loss: 0.10366546592749927, valid_loss: 0.4254467750542632\n",
      "Epoch 10\n"
     ]
    },
    {
     "name": "stderr",
     "output_type": "stream",
     "text": [
      "1096it [00:11, 98.26it/s] \n",
      "107it [00:00, 308.87it/s]\n"
     ]
    },
    {
     "name": "stdout",
     "output_type": "stream",
     "text": [
      "train loss: 0.10262215685016088, valid_loss: 0.38961039084906335\n",
      "Epoch 11\n"
     ]
    },
    {
     "name": "stderr",
     "output_type": "stream",
     "text": [
      "1096it [00:11, 98.61it/s]\n",
      "107it [00:00, 322.25it/s]\n"
     ]
    },
    {
     "name": "stdout",
     "output_type": "stream",
     "text": [
      "train loss: 0.11686395916639127, valid_loss: 0.44326475302680074\n",
      "Epoch 12\n"
     ]
    },
    {
     "name": "stderr",
     "output_type": "stream",
     "text": [
      "1096it [00:11, 99.57it/s] \n",
      "107it [00:00, 308.25it/s]\n"
     ]
    },
    {
     "name": "stdout",
     "output_type": "stream",
     "text": [
      "train loss: 0.09977626546569013, valid_loss: 0.44531715434984626\n",
      "Epoch 13\n"
     ]
    },
    {
     "name": "stderr",
     "output_type": "stream",
     "text": [
      "1096it [00:11, 98.13it/s] \n",
      "107it [00:00, 333.31it/s]\n"
     ]
    },
    {
     "name": "stdout",
     "output_type": "stream",
     "text": [
      "train loss: 0.09479303800723562, valid_loss: 0.44742063061273263\n",
      "Epoch 14\n"
     ]
    },
    {
     "name": "stderr",
     "output_type": "stream",
     "text": [
      "1096it [00:12, 90.62it/s]\n",
      "107it [00:00, 303.70it/s]\n"
     ]
    },
    {
     "name": "stdout",
     "output_type": "stream",
     "text": [
      "train loss: 0.08867561188420234, valid_loss: 0.4161823017818627\n",
      "Epoch 15\n"
     ]
    },
    {
     "name": "stderr",
     "output_type": "stream",
     "text": [
      "1096it [00:11, 93.90it/s] \n",
      "107it [00:00, 312.50it/s]\n"
     ]
    },
    {
     "name": "stdout",
     "output_type": "stream",
     "text": [
      "train loss: 0.10002381237645219, valid_loss: 0.4575121718824397\n",
      "Epoch 16\n"
     ]
    },
    {
     "name": "stderr",
     "output_type": "stream",
     "text": [
      "1096it [00:11, 98.44it/s] \n",
      "107it [00:00, 312.47it/s]\n"
     ]
    },
    {
     "name": "stdout",
     "output_type": "stream",
     "text": [
      "train loss: 0.08641769288992127, valid_loss: 0.49630803576557436\n",
      "Epoch 17\n"
     ]
    },
    {
     "name": "stderr",
     "output_type": "stream",
     "text": [
      "1096it [00:11, 98.91it/s]\n",
      "107it [00:00, 306.00it/s]\n"
     ]
    },
    {
     "name": "stdout",
     "output_type": "stream",
     "text": [
      "train loss: 0.08172067855042915, valid_loss: 0.5118013442489623\n",
      "Epoch 18\n"
     ]
    },
    {
     "name": "stderr",
     "output_type": "stream",
     "text": [
      "1096it [00:11, 98.60it/s] \n",
      "107it [00:00, 312.27it/s]\n"
     ]
    },
    {
     "name": "stdout",
     "output_type": "stream",
     "text": [
      "train loss: 0.08028510792053858, valid_loss: 0.4870257266301\n",
      "Epoch 19\n"
     ]
    },
    {
     "name": "stderr",
     "output_type": "stream",
     "text": [
      "1096it [00:11, 99.13it/s] \n",
      "107it [00:00, 314.21it/s]\n"
     ]
    },
    {
     "name": "stdout",
     "output_type": "stream",
     "text": [
      "train loss: 0.08256626238183537, valid_loss: 0.45060287322849035\n"
     ]
    },
    {
     "data": {
      "text/html": [
       "Waiting for W&B process to finish... <strong style=\"color:green\">(success).</strong>"
      ],
      "text/plain": [
       "<IPython.core.display.HTML object>"
      ]
     },
     "metadata": {},
     "output_type": "display_data"
    },
    {
     "data": {
      "text/html": [
       "<style>\n",
       "    table.wandb td:nth-child(1) { padding: 0 10px; text-align: left ; width: auto;} td:nth-child(2) {text-align: left ; width: 100%}\n",
       "    .wandb-row { display: flex; flex-direction: row; flex-wrap: wrap; justify-content: flex-start; width: 100% }\n",
       "    .wandb-col { display: flex; flex-direction: column; flex-basis: 100%; flex: 1; padding: 10px; }\n",
       "    </style>\n",
       "<div class=\"wandb-row\"><div class=\"wandb-col\"><h3>Run history:</h3><br/><table class=\"wandb\"><tr><td>train_loss</td><td>█▄▃▃▃▂▂▂▂▁▁▂▁▁▁▁▁▁▁▁</td></tr><tr><td>valid_loss</td><td>█▇▂▁▆▆▁▁▄▃▁▄▄▄▃▅▆▇▆▄</td></tr></table><br/></div><div class=\"wandb-col\"><h3>Run summary:</h3><br/><table class=\"wandb\"><tr><td>train_loss</td><td>0.08257</td></tr><tr><td>valid_loss</td><td>0.4506</td></tr></table><br/></div></div>"
      ],
      "text/plain": [
       "<IPython.core.display.HTML object>"
      ]
     },
     "metadata": {},
     "output_type": "display_data"
    },
    {
     "data": {
      "text/html": [
       "Synced <strong style=\"color:#cdcd00\">LSTM_40_40_3_0.0</strong>: <a href=\"https://wandb.ai/mgurevich/dl_cnp_23/runs/jswclup1\" target=\"_blank\">https://wandb.ai/mgurevich/dl_cnp_23/runs/jswclup1</a><br/>Synced 5 W&B file(s), 0 media file(s), 0 artifact file(s) and 0 other file(s)"
      ],
      "text/plain": [
       "<IPython.core.display.HTML object>"
      ]
     },
     "metadata": {},
     "output_type": "display_data"
    },
    {
     "data": {
      "text/html": [
       "Find logs at: <code>./wandb/run-20221022_195543-jswclup1/logs</code>"
      ],
      "text/plain": [
       "<IPython.core.display.HTML object>"
      ]
     },
     "metadata": {},
     "output_type": "display_data"
    }
   ],
   "source": [
    "lr = 1e-3\n",
    "emb_dim = 40\n",
    "hidden_size = 40\n",
    "num_layers = 3\n",
    "dropout = 0.0\n",
    "batch_size = 16\n",
    "exp_name = f'LSTM_{emb_dim}_{hidden_size}_{num_layers}_{dropout}'\n",
    "\n",
    "config = dict (\n",
    "    learning_rate = lr,\n",
    "    architecture = \"LSTM\",\n",
    "    batch_size = batch_size,\n",
    "    hidden_size = hidden_size,\n",
    "    num_layers = num_layers\n",
    ")\n",
    "\n",
    "wandb.init(\n",
    "  project='dl_cnp_23',\n",
    "  name=exp_name,\n",
    "  config=config,\n",
    ")\n",
    "\n",
    "train_dataloader = CompanyNameDataLoader(train_data, shuffle=True, preprocessing=clean_company_name_string)\n",
    "valid_dataloader = CompanyNameDataLoader(valid_data, shuffle=False, preprocessing=clean_company_name_string)\n",
    "\n",
    "net = LSTMNetwork(char_dict,\n",
    "                  emb_dim=emb_dim,\n",
    "                  hidden_size=hidden_size,\n",
    "                  num_layers=num_layers,\n",
    "                  dropout=dropout).to(device)\n",
    "optimizer = torch.optim.Adam(net.parameters(), lr=0.001)\n",
    "best_valid_loss = np.inf\n",
    "\n",
    "for epoch in range(20):\n",
    "    print(f'Epoch {epoch}')\n",
    "    train_losses = []\n",
    "    for batch in tqdm.tqdm(train_dataloader):\n",
    "        optimizer.zero_grad()\n",
    "        pairs = zip(batch[0], batch[1])\n",
    "        sorted_pair = sorted(pairs, key=lambda x: len(x[0]), reverse=True)\n",
    "        x, y = zip(*sorted_pair)\n",
    "        pred = net(x)\n",
    "        loss = contrastive_loss(pred, torch.Tensor(y).to(device))\n",
    "        loss.backward()\n",
    "        train_losses.append(loss.item())\n",
    "        optimizer.step()\n",
    "    train_loss = np.mean(train_losses)\n",
    "    time.sleep(0.5)\n",
    "    valid_losses = []\n",
    "    for batch in tqdm.tqdm(valid_dataloader):\n",
    "        pairs = zip(batch[0], batch[1])\n",
    "        sorted_pair = sorted(pairs, key=lambda x: len(x[0]), reverse=True)\n",
    "        x, y = zip(*sorted_pair)\n",
    "        with torch.no_grad():\n",
    "            pred = net(x)\n",
    "            loss = contrastive_loss(pred, torch.Tensor(y).to(device))\n",
    "        valid_losses.append(loss.item())\n",
    "    valid_loss = np.mean(valid_losses)\n",
    "    print(f'train loss: {train_loss}, valid_loss: {valid_loss}')\n",
    "    wandb.log({'train_loss': train_loss, 'valid_loss': valid_loss}, step=epoch)\n",
    "    if valid_loss < best_valid_loss:\n",
    "        best_valid_loss = valid_loss\n",
    "        torch.save(net.state_dict(), output_path / f'{exp_name}_best.pth')\n",
    "    time.sleep(0.5)\n",
    "\n",
    "wandb.finish()"
   ]
  },
  {
   "cell_type": "code",
   "execution_count": 55,
   "id": "e8c009db-659b-4d16-b49a-bdb8d26ba105",
   "metadata": {},
   "outputs": [
    {
     "data": {
      "text/plain": [
       "LSTMNetwork(\n",
       "  (emb): Embedding(40, 40)\n",
       "  (LSTM): LSTM(40, 60, num_layers=3, bidirectional=True)\n",
       ")"
      ]
     },
     "execution_count": 55,
     "metadata": {},
     "output_type": "execute_result"
    }
   ],
   "source": [
    "net = LSTMNetwork(char_dict,\n",
    "                  emb_dim=40,\n",
    "                  hidden_size=60,\n",
    "                  num_layers=3,\n",
    "                  dropout=0.0).to(device)\n",
    "net.load_state_dict(torch.load('../models/LSTM_40_60_3_0.0_best.pth'))\n",
    "net.eval()"
   ]
  },
  {
   "cell_type": "code",
   "execution_count": 56,
   "id": "766126be-ee87-4d26-872a-5507552c77c0",
   "metadata": {},
   "outputs": [],
   "source": [
    "def get_similarity_stats_within_clusters(model, data, preprocessing=clean_company_name_string):\n",
    "    cluster_data = data[data['cluster'] != -1].reset_index(drop=True)\n",
    "    similarity = CosineSimilarity()\n",
    "    cluster_similarity = []\n",
    "    for cluster_id in cluster_data['cluster'].unique():\n",
    "        cluster = cluster_data[cluster_data['cluster'] == cluster_id]\n",
    "        names = list(cluster['name'].values)\n",
    "        clean_names = [preprocessing(name) for name in names]\n",
    "        clean_names = sorted(clean_names, key=lambda x: len(x), reverse=True)\n",
    "        with torch.no_grad():\n",
    "            pred = net(clean_names)\n",
    "        similarity_result = similarity(pred).cpu().numpy()\n",
    "        n = len(clean_names)\n",
    "        current_similarity = (similarity_result.sum() - n) / (n ** 2 - n)\n",
    "        cluster_similarity.append(current_similarity.mean())\n",
    "    return cluster_similarity\n",
    "\n",
    "def get_similarity_stats_between_clusters(model, data, preprocessing=clean_company_name_string):\n",
    "    cluster_data = data[data['cluster'] != -1].reset_index(drop=True)\n",
    "    similarity = CosineSimilarity()\n",
    "    cluster_similarity = []\n",
    "    for cluster_id in cluster_data['cluster'].unique():\n",
    "        cluster = cluster_data[cluster_data['cluster'] == cluster_id]\n",
    "        names = list(cluster['name'].values)\n",
    "        other_names = list(data[data['cluster'] == -1]['name'].values)\n",
    "        all_names = names + other_names\n",
    "        \n",
    "        clean_names = [preprocessing(name) for name in all_names]\n",
    "        clean_names = sorted(clean_names, key=lambda x: len(x), reverse=True)\n",
    "        with torch.no_grad():\n",
    "            pred = net(clean_names)\n",
    "        \n",
    "        similarity_result = similarity(pred).cpu().numpy()\n",
    "        n = len(clean_names)\n",
    "        current_similarity = similarity_result[: n].flatten()\n",
    "        current_similarity = (current_similarity.sum() - len(names)) / (len(current_similarity) - len(names))\n",
    "        cluster_similarity.append(current_similarity)\n",
    "    return cluster_similarity"
   ]
  },
  {
   "cell_type": "code",
   "execution_count": 57,
   "id": "90bd972c-19c1-494f-9fb8-468af220ef89",
   "metadata": {},
   "outputs": [],
   "source": [
    "similarity_within_clusters = get_similarity_stats_within_clusters(net, valid_data)\n",
    "similarity_between_clusters = get_similarity_stats_between_clusters(net, valid_data)"
   ]
  },
  {
   "cell_type": "code",
   "execution_count": 58,
   "id": "07e81010-69d4-4309-a6a1-b9f285603154",
   "metadata": {},
   "outputs": [
    {
     "data": {
      "image/png": "[encoded data removed]",
      "text/plain": [
       "<Figure size 640x480 with 1 Axes>"
      ]
     },
     "metadata": {},
     "output_type": "display_data"
    }
   ],
   "source": [
    "plt.hist(similarity_within_clusters, bins=50)\n",
    "plt.title('Косинусное расстояние внутри кластеров')\n",
    "plt.show()"
   ]
  },
  {
   "cell_type": "code",
   "execution_count": 59,
   "id": "7695656a-73b8-441f-8cb5-2968d4e36040",
   "metadata": {},
   "outputs": [
    {
     "data": {
      "image/png": "[encoded data removed]",
      "text/plain": [
       "<Figure size 640x480 with 1 Axes>"
      ]
     },
     "metadata": {},
     "output_type": "display_data"
    }
   ],
   "source": [
    "plt.hist(similarity_between_clusters, bins=50)\n",
    "plt.title('Косинусное расстояние между кластерами')\n",
    "plt.show()"
   ]
  },
  {
   "cell_type": "markdown",
   "id": "f05d777f-caf4-44a3-9316-f101c4fea1de",
   "metadata": {},
   "source": [
    "# Рассчитаем метрики на test (классификация)"
   ]
  },
  {
   "cell_type": "code",
   "execution_count": 61,
   "id": "b7824587-9a16-410f-a7b5-46a199a51451",
   "metadata": {},
   "outputs": [],
   "source": [
    "test = pd.read_csv('../data/interim/X_test.csv')"
   ]
  },
  {
   "cell_type": "code",
   "execution_count": 62,
   "id": "363ca353-fc2e-4654-b195-9948d585011f",
   "metadata": {},
   "outputs": [
    {
     "name": "stderr",
     "output_type": "stream",
     "text": [
      "99564it [02:09, 770.51it/s]\n"
     ]
    }
   ],
   "source": [
    "similarity = CosineSimilarity()\n",
    "\n",
    "prediction = []\n",
    "for i, row in tqdm.tqdm(test.iterrows()):\n",
    "    names = [row['name_1'], row['name_2']]\n",
    "    clean_names = [clean_company_name_string(name) for name in names]\n",
    "    clean_names = sorted(clean_names, key=lambda x: len(x), reverse=True)\n",
    "    if len(clean_names[0]) == 0 or len(clean_names[1]) == 0:\n",
    "        prediction.append(0)\n",
    "        continue\n",
    "    with torch.no_grad():\n",
    "        pred = net(clean_names)\n",
    "    distance = similarity(pred).cpu().numpy()[0, 1]\n",
    "    prediction.append(distance)"
   ]
  },
  {
   "cell_type": "code",
   "execution_count": 90,
   "id": "5f9cbf08-b3d4-4ff8-9e45-44980edaac15",
   "metadata": {},
   "outputs": [],
   "source": [
    "test['distance'] = prediction\n",
    "test['pred'] = test['distance'] > 0.9999"
   ]
  },
  {
   "cell_type": "code",
   "execution_count": 91,
   "id": "8d509e3a-f362-4bff-b614-d010a0f85c0f",
   "metadata": {},
   "outputs": [],
   "source": [
    "from sklearn.metrics import precision_score, recall_score, f1_score"
   ]
  },
  {
   "cell_type": "code",
   "execution_count": 92,
   "id": "fd39e3a9-2d8f-4669-ae53-469f42fde267",
   "metadata": {},
   "outputs": [
    {
     "data": {
      "text/plain": [
       "0.2991150442477876"
      ]
     },
     "execution_count": 92,
     "metadata": {},
     "output_type": "execute_result"
    }
   ],
   "source": [
    "precision_score(test['is_duplicate'], test['pred'])"
   ]
  },
  {
   "cell_type": "code",
   "execution_count": 93,
   "id": "bca01385-de35-4bda-a456-9df6815534e7",
   "metadata": {},
   "outputs": [
    {
     "data": {
      "text/plain": [
       "0.6926229508196722"
      ]
     },
     "execution_count": 93,
     "metadata": {},
     "output_type": "execute_result"
    }
   ],
   "source": [
    "recall_score(test['is_duplicate'], test['pred'])"
   ]
  },
  {
   "cell_type": "code",
   "execution_count": 94,
   "id": "ef306ced-1cee-4943-8f46-093316e23686",
   "metadata": {},
   "outputs": [
    {
     "data": {
      "text/plain": [
       "0.41779975278121134"
      ]
     },
     "execution_count": 94,
     "metadata": {},
     "output_type": "execute_result"
    }
   ],
   "source": [
    "f1_score(test['is_duplicate'], test['pred'])"
   ]
  },
  {
   "cell_type": "code",
   "execution_count": 95,
   "id": "1b9d84f7-5de9-4892-a6e9-fa960b678b05",
   "metadata": {},
   "outputs": [
    {
     "data": {
      "text/html": [
       "<div>\n",
       "<style scoped>\n",
       "    .dataframe tbody tr th:only-of-type {\n",
       "        vertical-align: middle;\n",
       "    }\n",
       "\n",
       "    .dataframe tbody tr th {\n",
       "        vertical-align: top;\n",
       "    }\n",
       "\n",
       "    .dataframe thead th {\n",
       "        text-align: right;\n",
       "    }\n",
       "</style>\n",
       "<table border=\"1\" class=\"dataframe\">\n",
       "  <thead>\n",
       "    <tr style=\"text-align: right;\">\n",
       "      <th></th>\n",
       "      <th>pair_id</th>\n",
       "      <th>name_1</th>\n",
       "      <th>name_2</th>\n",
       "      <th>is_duplicate</th>\n",
       "      <th>distance</th>\n",
       "      <th>pred</th>\n",
       "    </tr>\n",
       "  </thead>\n",
       "  <tbody>\n",
       "    <tr>\n",
       "      <th>804</th>\n",
       "      <td>477222</td>\n",
       "      <td>Breakthru Beverage Maryland</td>\n",
       "      <td>Breakthru Beverage De</td>\n",
       "      <td>0</td>\n",
       "      <td>1.0</td>\n",
       "      <td>True</td>\n",
       "    </tr>\n",
       "    <tr>\n",
       "      <th>1213</th>\n",
       "      <td>294391</td>\n",
       "      <td>Bank Asia Ltd.</td>\n",
       "      <td>Bank Of America</td>\n",
       "      <td>0</td>\n",
       "      <td>1.0</td>\n",
       "      <td>True</td>\n",
       "    </tr>\n",
       "    <tr>\n",
       "      <th>1515</th>\n",
       "      <td>29236</td>\n",
       "      <td>Ansell Healthcare</td>\n",
       "      <td>Ansell Lanka (Pvt) Ltd.</td>\n",
       "      <td>0</td>\n",
       "      <td>1.0</td>\n",
       "      <td>True</td>\n",
       "    </tr>\n",
       "    <tr>\n",
       "      <th>5473</th>\n",
       "      <td>212457</td>\n",
       "      <td>American Roll Sa De Cv</td>\n",
       "      <td>American Cashew Co.</td>\n",
       "      <td>0</td>\n",
       "      <td>1.0</td>\n",
       "      <td>True</td>\n",
       "    </tr>\n",
       "    <tr>\n",
       "      <th>11777</th>\n",
       "      <td>2994</td>\n",
       "      <td>Comercial Conte S.A.C.</td>\n",
       "      <td>Comercial Duomo Ltda</td>\n",
       "      <td>0</td>\n",
       "      <td>1.0</td>\n",
       "      <td>True</td>\n",
       "    </tr>\n",
       "    <tr>\n",
       "      <th>12937</th>\n",
       "      <td>60508</td>\n",
       "      <td>Inversiones Bogantes Y Corella Sociedad Anonima</td>\n",
       "      <td>Inversionistas Y Distribuidores Sociedad Anoni...</td>\n",
       "      <td>0</td>\n",
       "      <td>1.0</td>\n",
       "      <td>True</td>\n",
       "    </tr>\n",
       "    <tr>\n",
       "      <th>19316</th>\n",
       "      <td>161882</td>\n",
       "      <td>Binex Line Corp. Hq (Csr)</td>\n",
       "      <td>Binex Line Corp.</td>\n",
       "      <td>0</td>\n",
       "      <td>1.0</td>\n",
       "      <td>True</td>\n",
       "    </tr>\n",
       "    <tr>\n",
       "      <th>24467</th>\n",
       "      <td>401728</td>\n",
       "      <td>American Roll Sa De Cv</td>\n",
       "      <td>American Precision Assemblers De Mexico S. De ...</td>\n",
       "      <td>0</td>\n",
       "      <td>1.0</td>\n",
       "      <td>True</td>\n",
       "    </tr>\n",
       "    <tr>\n",
       "      <th>27566</th>\n",
       "      <td>425177</td>\n",
       "      <td>Comercializadora Marsolu Sa De Cv</td>\n",
       "      <td>Comercializadora Llantas Unidas International ...</td>\n",
       "      <td>0</td>\n",
       "      <td>1.0</td>\n",
       "      <td>True</td>\n",
       "    </tr>\n",
       "    <tr>\n",
       "      <th>28629</th>\n",
       "      <td>457930</td>\n",
       "      <td>Jas Forwarding World Wide Inc.</td>\n",
       "      <td>Jas Forwarding (Usa) Inc.</td>\n",
       "      <td>0</td>\n",
       "      <td>1.0</td>\n",
       "      <td>True</td>\n",
       "    </tr>\n",
       "    <tr>\n",
       "      <th>35289</th>\n",
       "      <td>87410</td>\n",
       "      <td>American Leakless Co.</td>\n",
       "      <td>America Logistics Group S.A.</td>\n",
       "      <td>0</td>\n",
       "      <td>1.0</td>\n",
       "      <td>True</td>\n",
       "    </tr>\n",
       "    <tr>\n",
       "      <th>39918</th>\n",
       "      <td>320365</td>\n",
       "      <td>Comercial Conte S.A.C.</td>\n",
       "      <td>Comercial Vicsol Sa De Cv</td>\n",
       "      <td>0</td>\n",
       "      <td>1.0</td>\n",
       "      <td>True</td>\n",
       "    </tr>\n",
       "    <tr>\n",
       "      <th>41686</th>\n",
       "      <td>487883</td>\n",
       "      <td>Comercial Duomo Ltda</td>\n",
       "      <td>Comercial Conte S.A.C.</td>\n",
       "      <td>0</td>\n",
       "      <td>1.0</td>\n",
       "      <td>True</td>\n",
       "    </tr>\n",
       "    <tr>\n",
       "      <th>43025</th>\n",
       "      <td>267842</td>\n",
       "      <td>Comercializadora International Sunshine Bouque...</td>\n",
       "      <td>Comercial Conte S.A.C.</td>\n",
       "      <td>0</td>\n",
       "      <td>1.0</td>\n",
       "      <td>True</td>\n",
       "    </tr>\n",
       "    <tr>\n",
       "      <th>43850</th>\n",
       "      <td>203533</td>\n",
       "      <td>Inversiones Quintero Candanoza Limitada</td>\n",
       "      <td>Inversiones Maori C.A.</td>\n",
       "      <td>0</td>\n",
       "      <td>1.0</td>\n",
       "      <td>True</td>\n",
       "    </tr>\n",
       "    <tr>\n",
       "      <th>44492</th>\n",
       "      <td>203200</td>\n",
       "      <td>Comercializadora Simbs S De Rl</td>\n",
       "      <td>Comercializadora Alianza Global A&amp;G S.A.S.</td>\n",
       "      <td>0</td>\n",
       "      <td>1.0</td>\n",
       "      <td>True</td>\n",
       "    </tr>\n",
       "    <tr>\n",
       "      <th>46818</th>\n",
       "      <td>485681</td>\n",
       "      <td>Alidot Srl Panama 3320 B 1605 Edf</td>\n",
       "      <td>Alidot Srl</td>\n",
       "      <td>0</td>\n",
       "      <td>1.0</td>\n",
       "      <td>True</td>\n",
       "    </tr>\n",
       "    <tr>\n",
       "      <th>47355</th>\n",
       "      <td>489761</td>\n",
       "      <td>Banco Del Estado</td>\n",
       "      <td>Banco De Credito E Inversiones</td>\n",
       "      <td>0</td>\n",
       "      <td>1.0</td>\n",
       "      <td>True</td>\n",
       "    </tr>\n",
       "    <tr>\n",
       "      <th>75415</th>\n",
       "      <td>182713</td>\n",
       "      <td>Comercial Duomo Ltda</td>\n",
       "      <td>Comercializadora Simbs S De Rl</td>\n",
       "      <td>0</td>\n",
       "      <td>1.0</td>\n",
       "      <td>True</td>\n",
       "    </tr>\n",
       "    <tr>\n",
       "      <th>79382</th>\n",
       "      <td>227662</td>\n",
       "      <td>Techno Textile Mills Ltd.</td>\n",
       "      <td>Techno Spinning Mills Ltd.</td>\n",
       "      <td>0</td>\n",
       "      <td>1.0</td>\n",
       "      <td>True</td>\n",
       "    </tr>\n",
       "    <tr>\n",
       "      <th>85204</th>\n",
       "      <td>401516</td>\n",
       "      <td>Comercializadora Marsolu Sa De Cv</td>\n",
       "      <td>Comercial Quimica S.A.S.</td>\n",
       "      <td>0</td>\n",
       "      <td>1.0</td>\n",
       "      <td>True</td>\n",
       "    </tr>\n",
       "    <tr>\n",
       "      <th>85913</th>\n",
       "      <td>236636</td>\n",
       "      <td>American Trading Co. Japan Ltd.</td>\n",
       "      <td>American Cashew Co.</td>\n",
       "      <td>0</td>\n",
       "      <td>1.0</td>\n",
       "      <td>True</td>\n",
       "    </tr>\n",
       "    <tr>\n",
       "      <th>86890</th>\n",
       "      <td>352677</td>\n",
       "      <td>Comercializadora Alianza Global A&amp;G S.A.S.</td>\n",
       "      <td>Comercializadora Rio Express., S.A. De C.V.</td>\n",
       "      <td>0</td>\n",
       "      <td>1.0</td>\n",
       "      <td>True</td>\n",
       "    </tr>\n",
       "    <tr>\n",
       "      <th>89011</th>\n",
       "      <td>366674</td>\n",
       "      <td>American Airlines</td>\n",
       "      <td>American Flange</td>\n",
       "      <td>0</td>\n",
       "      <td>1.0</td>\n",
       "      <td>True</td>\n",
       "    </tr>\n",
       "    <tr>\n",
       "      <th>92801</th>\n",
       "      <td>29381</td>\n",
       "      <td>Dongguan Shun Lian Toys Co., Ltd.</td>\n",
       "      <td>Dongguan Taizhan Shoes Materials Co., Ltd.</td>\n",
       "      <td>0</td>\n",
       "      <td>1.0</td>\n",
       "      <td>True</td>\n",
       "    </tr>\n",
       "    <tr>\n",
       "      <th>93636</th>\n",
       "      <td>412230</td>\n",
       "      <td>Manufacturas Vu S. De R.L. De C.V.</td>\n",
       "      <td>Manufacturas Diversas Sa De Cv</td>\n",
       "      <td>0</td>\n",
       "      <td>1.0</td>\n",
       "      <td>True</td>\n",
       "    </tr>\n",
       "    <tr>\n",
       "      <th>94712</th>\n",
       "      <td>250185</td>\n",
       "      <td>Qingdao Free Trade Zone Logistic Zone Vonder I...</td>\n",
       "      <td>Qingdao Free Trade Zone Debang International T...</td>\n",
       "      <td>0</td>\n",
       "      <td>1.0</td>\n",
       "      <td>True</td>\n",
       "    </tr>\n",
       "    <tr>\n",
       "      <th>97045</th>\n",
       "      <td>396722</td>\n",
       "      <td>Banco De Credito E Inversiones Av</td>\n",
       "      <td>Banco De Credito Del Peru</td>\n",
       "      <td>0</td>\n",
       "      <td>1.0</td>\n",
       "      <td>True</td>\n",
       "    </tr>\n",
       "    <tr>\n",
       "      <th>99351</th>\n",
       "      <td>258231</td>\n",
       "      <td>America Global Logistics</td>\n",
       "      <td>American Leakless Co.</td>\n",
       "      <td>0</td>\n",
       "      <td>1.0</td>\n",
       "      <td>True</td>\n",
       "    </tr>\n",
       "  </tbody>\n",
       "</table>\n",
       "</div>"
      ],
      "text/plain": [
       "       pair_id                                             name_1  \\\n",
       "804     477222                        Breakthru Beverage Maryland   \n",
       "1213    294391                                     Bank Asia Ltd.   \n",
       "1515     29236                                  Ansell Healthcare   \n",
       "5473    212457                             American Roll Sa De Cv   \n",
       "11777     2994                             Comercial Conte S.A.C.   \n",
       "12937    60508    Inversiones Bogantes Y Corella Sociedad Anonima   \n",
       "19316   161882                          Binex Line Corp. Hq (Csr)   \n",
       "24467   401728                             American Roll Sa De Cv   \n",
       "27566   425177                  Comercializadora Marsolu Sa De Cv   \n",
       "28629   457930                     Jas Forwarding World Wide Inc.   \n",
       "35289    87410                              American Leakless Co.   \n",
       "39918   320365                             Comercial Conte S.A.C.   \n",
       "41686   487883                               Comercial Duomo Ltda   \n",
       "43025   267842  Comercializadora International Sunshine Bouque...   \n",
       "43850   203533            Inversiones Quintero Candanoza Limitada   \n",
       "44492   203200                     Comercializadora Simbs S De Rl   \n",
       "46818   485681                  Alidot Srl Panama 3320 B 1605 Edf   \n",
       "47355   489761                                   Banco Del Estado   \n",
       "75415   182713                               Comercial Duomo Ltda   \n",
       "79382   227662                          Techno Textile Mills Ltd.   \n",
       "85204   401516                  Comercializadora Marsolu Sa De Cv   \n",
       "85913   236636                    American Trading Co. Japan Ltd.   \n",
       "86890   352677         Comercializadora Alianza Global A&G S.A.S.   \n",
       "89011   366674                                  American Airlines   \n",
       "92801    29381                  Dongguan Shun Lian Toys Co., Ltd.   \n",
       "93636   412230                 Manufacturas Vu S. De R.L. De C.V.   \n",
       "94712   250185  Qingdao Free Trade Zone Logistic Zone Vonder I...   \n",
       "97045   396722                  Banco De Credito E Inversiones Av   \n",
       "99351   258231                           America Global Logistics   \n",
       "\n",
       "                                                  name_2  is_duplicate  \\\n",
       "804                                Breakthru Beverage De             0   \n",
       "1213                                     Bank Of America             0   \n",
       "1515                             Ansell Lanka (Pvt) Ltd.             0   \n",
       "5473                                 American Cashew Co.             0   \n",
       "11777                               Comercial Duomo Ltda             0   \n",
       "12937  Inversionistas Y Distribuidores Sociedad Anoni...             0   \n",
       "19316                                   Binex Line Corp.             0   \n",
       "24467  American Precision Assemblers De Mexico S. De ...             0   \n",
       "27566  Comercializadora Llantas Unidas International ...             0   \n",
       "28629                          Jas Forwarding (Usa) Inc.             0   \n",
       "35289                       America Logistics Group S.A.             0   \n",
       "39918                          Comercial Vicsol Sa De Cv             0   \n",
       "41686                             Comercial Conte S.A.C.             0   \n",
       "43025                             Comercial Conte S.A.C.             0   \n",
       "43850                             Inversiones Maori C.A.             0   \n",
       "44492         Comercializadora Alianza Global A&G S.A.S.             0   \n",
       "46818                                         Alidot Srl             0   \n",
       "47355                     Banco De Credito E Inversiones             0   \n",
       "75415                     Comercializadora Simbs S De Rl             0   \n",
       "79382                         Techno Spinning Mills Ltd.             0   \n",
       "85204                           Comercial Quimica S.A.S.             0   \n",
       "85913                                American Cashew Co.             0   \n",
       "86890        Comercializadora Rio Express., S.A. De C.V.             0   \n",
       "89011                                    American Flange             0   \n",
       "92801         Dongguan Taizhan Shoes Materials Co., Ltd.             0   \n",
       "93636                     Manufacturas Diversas Sa De Cv             0   \n",
       "94712  Qingdao Free Trade Zone Debang International T...             0   \n",
       "97045                          Banco De Credito Del Peru             0   \n",
       "99351                              American Leakless Co.             0   \n",
       "\n",
       "       distance  pred  \n",
       "804         1.0  True  \n",
       "1213        1.0  True  \n",
       "1515        1.0  True  \n",
       "5473        1.0  True  \n",
       "11777       1.0  True  \n",
       "12937       1.0  True  \n",
       "19316       1.0  True  \n",
       "24467       1.0  True  \n",
       "27566       1.0  True  \n",
       "28629       1.0  True  \n",
       "35289       1.0  True  \n",
       "39918       1.0  True  \n",
       "41686       1.0  True  \n",
       "43025       1.0  True  \n",
       "43850       1.0  True  \n",
       "44492       1.0  True  \n",
       "46818       1.0  True  \n",
       "47355       1.0  True  \n",
       "75415       1.0  True  \n",
       "79382       1.0  True  \n",
       "85204       1.0  True  \n",
       "85913       1.0  True  \n",
       "86890       1.0  True  \n",
       "89011       1.0  True  \n",
       "92801       1.0  True  \n",
       "93636       1.0  True  \n",
       "94712       1.0  True  \n",
       "97045       1.0  True  \n",
       "99351       1.0  True  "
      ]
     },
     "execution_count": 95,
     "metadata": {},
     "output_type": "execute_result"
    }
   ],
   "source": [
    "test[(test['distance'] == 1) & (test['is_duplicate'] == 0)]"
   ]
  },
  {
   "cell_type": "code",
   "execution_count": 97,
   "id": "122d6a08-5f75-47a1-b207-712213bd1c6a",
   "metadata": {},
   "outputs": [
    {
     "data": {
      "text/html": [
       "<div>\n",
       "<style scoped>\n",
       "    .dataframe tbody tr th:only-of-type {\n",
       "        vertical-align: middle;\n",
       "    }\n",
       "\n",
       "    .dataframe tbody tr th {\n",
       "        vertical-align: top;\n",
       "    }\n",
       "\n",
       "    .dataframe thead th {\n",
       "        text-align: right;\n",
       "    }\n",
       "</style>\n",
       "<table border=\"1\" class=\"dataframe\">\n",
       "  <thead>\n",
       "    <tr style=\"text-align: right;\">\n",
       "      <th></th>\n",
       "      <th>pair_id</th>\n",
       "      <th>name_1</th>\n",
       "      <th>name_2</th>\n",
       "      <th>is_duplicate</th>\n",
       "      <th>distance</th>\n",
       "      <th>pred</th>\n",
       "    </tr>\n",
       "  </thead>\n",
       "  <tbody>\n",
       "    <tr>\n",
       "      <th>53</th>\n",
       "      <td>365945</td>\n",
       "      <td>Summary Ag</td>\n",
       "      <td>Summa Sistemas C. A</td>\n",
       "      <td>0</td>\n",
       "      <td>0.999993</td>\n",
       "      <td>True</td>\n",
       "    </tr>\n",
       "    <tr>\n",
       "      <th>121</th>\n",
       "      <td>117099</td>\n",
       "      <td>Anurun Trading</td>\n",
       "      <td>Arabian Darb General Trading And</td>\n",
       "      <td>0</td>\n",
       "      <td>0.999952</td>\n",
       "      <td>True</td>\n",
       "    </tr>\n",
       "    <tr>\n",
       "      <th>269</th>\n",
       "      <td>266226</td>\n",
       "      <td>Al Basir Trading Co.</td>\n",
       "      <td>Al Huda Shoes Trading</td>\n",
       "      <td>0</td>\n",
       "      <td>0.999985</td>\n",
       "      <td>True</td>\n",
       "    </tr>\n",
       "    <tr>\n",
       "      <th>292</th>\n",
       "      <td>487753</td>\n",
       "      <td>Industrial Organics (Pty) Ltd.</td>\n",
       "      <td>Industrias Tuk S.A. De C.V.</td>\n",
       "      <td>0</td>\n",
       "      <td>0.999982</td>\n",
       "      <td>True</td>\n",
       "    </tr>\n",
       "    <tr>\n",
       "      <th>327</th>\n",
       "      <td>85479</td>\n",
       "      <td>Zhejiang Materials Industry Chemical Group Co....</td>\n",
       "      <td>Zhejiang Mingri Holdings</td>\n",
       "      <td>0</td>\n",
       "      <td>0.999995</td>\n",
       "      <td>True</td>\n",
       "    </tr>\n",
       "    <tr>\n",
       "      <th>337</th>\n",
       "      <td>40595</td>\n",
       "      <td>Al Tec International</td>\n",
       "      <td>Alex Extrusions Ltd.</td>\n",
       "      <td>0</td>\n",
       "      <td>0.999999</td>\n",
       "      <td>True</td>\n",
       "    </tr>\n",
       "    <tr>\n",
       "      <th>367</th>\n",
       "      <td>294648</td>\n",
       "      <td>To The Order Of</td>\n",
       "      <td>To Order Notify:Africa Agri Tech</td>\n",
       "      <td>0</td>\n",
       "      <td>0.999937</td>\n",
       "      <td>True</td>\n",
       "    </tr>\n",
       "    <tr>\n",
       "      <th>449</th>\n",
       "      <td>273778</td>\n",
       "      <td>Commander Logistica Ltda</td>\n",
       "      <td>Commerce Logistics (Shanghai) Co., Ltd.</td>\n",
       "      <td>0</td>\n",
       "      <td>0.999986</td>\n",
       "      <td>True</td>\n",
       "    </tr>\n",
       "    <tr>\n",
       "      <th>492</th>\n",
       "      <td>118451</td>\n",
       "      <td>Alaska Rubbers Pvt., Ltd.</td>\n",
       "      <td>Anand Chemicals &amp; Rubber Pvt., Ltd.</td>\n",
       "      <td>0</td>\n",
       "      <td>0.999995</td>\n",
       "      <td>True</td>\n",
       "    </tr>\n",
       "    <tr>\n",
       "      <th>570</th>\n",
       "      <td>137967</td>\n",
       "      <td>Dresco</td>\n",
       "      <td>Dls Comercial E.I.R.L</td>\n",
       "      <td>0</td>\n",
       "      <td>0.999989</td>\n",
       "      <td>True</td>\n",
       "    </tr>\n",
       "    <tr>\n",
       "      <th>574</th>\n",
       "      <td>127251</td>\n",
       "      <td>Dongguan Jinggan Plastic Products Co., Ltd.</td>\n",
       "      <td>Dongguan Cimtex Co., Ltd.</td>\n",
       "      <td>0</td>\n",
       "      <td>0.999987</td>\n",
       "      <td>True</td>\n",
       "    </tr>\n",
       "    <tr>\n",
       "      <th>577</th>\n",
       "      <td>20958</td>\n",
       "      <td>Comercializadora International</td>\n",
       "      <td>Comercializadora Universal Kimu S.A. De C.V.</td>\n",
       "      <td>0</td>\n",
       "      <td>1.000000</td>\n",
       "      <td>True</td>\n",
       "    </tr>\n",
       "    <tr>\n",
       "      <th>646</th>\n",
       "      <td>393591</td>\n",
       "      <td>Saint Gobain Vietnam Co., Ltd.</td>\n",
       "      <td>Saint Gobain Abrasives (Shanghai) C</td>\n",
       "      <td>0</td>\n",
       "      <td>1.000000</td>\n",
       "      <td>True</td>\n",
       "    </tr>\n",
       "    <tr>\n",
       "      <th>804</th>\n",
       "      <td>477222</td>\n",
       "      <td>Breakthru Beverage Maryland</td>\n",
       "      <td>Breakthru Beverage De</td>\n",
       "      <td>0</td>\n",
       "      <td>1.000000</td>\n",
       "      <td>True</td>\n",
       "    </tr>\n",
       "    <tr>\n",
       "      <th>983</th>\n",
       "      <td>218273</td>\n",
       "      <td>Industrias Cazel S De Rl De Cv</td>\n",
       "      <td>Industrias De Hule Galgo Sa De Cv</td>\n",
       "      <td>0</td>\n",
       "      <td>0.999999</td>\n",
       "      <td>True</td>\n",
       "    </tr>\n",
       "    <tr>\n",
       "      <th>1028</th>\n",
       "      <td>14086</td>\n",
       "      <td>Bluestar Technology (Shenzhen) Co., Ltd.</td>\n",
       "      <td>Blk International (Pty) Ltd.</td>\n",
       "      <td>0</td>\n",
       "      <td>0.999965</td>\n",
       "      <td>True</td>\n",
       "    </tr>\n",
       "    <tr>\n",
       "      <th>1186</th>\n",
       "      <td>356872</td>\n",
       "      <td>Polimer Kaucuk Sanayi Ve Pazarlama</td>\n",
       "      <td>Polimeros Basicos Sa De Cv</td>\n",
       "      <td>0</td>\n",
       "      <td>0.999983</td>\n",
       "      <td>True</td>\n",
       "    </tr>\n",
       "    <tr>\n",
       "      <th>1206</th>\n",
       "      <td>127177</td>\n",
       "      <td>To The Order Of Commercial</td>\n",
       "      <td>To The Order Of Mercantile Bank Ltd.</td>\n",
       "      <td>0</td>\n",
       "      <td>1.000000</td>\n",
       "      <td>True</td>\n",
       "    </tr>\n",
       "    <tr>\n",
       "      <th>1213</th>\n",
       "      <td>294391</td>\n",
       "      <td>Bank Asia Ltd.</td>\n",
       "      <td>Bank Of America</td>\n",
       "      <td>0</td>\n",
       "      <td>1.000000</td>\n",
       "      <td>True</td>\n",
       "    </tr>\n",
       "    <tr>\n",
       "      <th>1272</th>\n",
       "      <td>83006</td>\n",
       "      <td>Dongguan Zhaojing Trading Co., Ltd.</td>\n",
       "      <td>Dongguan Daou Trade Ltd. Co.</td>\n",
       "      <td>0</td>\n",
       "      <td>0.999952</td>\n",
       "      <td>True</td>\n",
       "    </tr>\n",
       "    <tr>\n",
       "      <th>1275</th>\n",
       "      <td>449961</td>\n",
       "      <td>Continental Tire Chile Sp A</td>\n",
       "      <td>Continental Tire D Mexico</td>\n",
       "      <td>0</td>\n",
       "      <td>1.000000</td>\n",
       "      <td>True</td>\n",
       "    </tr>\n",
       "    <tr>\n",
       "      <th>1473</th>\n",
       "      <td>233344</td>\n",
       "      <td>Tecnologia En Transportede Minerale</td>\n",
       "      <td>Tecnocal S.A.</td>\n",
       "      <td>0</td>\n",
       "      <td>0.999955</td>\n",
       "      <td>True</td>\n",
       "    </tr>\n",
       "    <tr>\n",
       "      <th>1511</th>\n",
       "      <td>374571</td>\n",
       "      <td>Arlanxeo Singapore Pte., Ltd.</td>\n",
       "      <td>Anixter Singapore Pte., Ltd.</td>\n",
       "      <td>0</td>\n",
       "      <td>0.999922</td>\n",
       "      <td>True</td>\n",
       "    </tr>\n",
       "    <tr>\n",
       "      <th>1515</th>\n",
       "      <td>29236</td>\n",
       "      <td>Ansell Healthcare</td>\n",
       "      <td>Ansell Lanka (Pvt) Ltd.</td>\n",
       "      <td>0</td>\n",
       "      <td>1.000000</td>\n",
       "      <td>True</td>\n",
       "    </tr>\n",
       "    <tr>\n",
       "      <th>1583</th>\n",
       "      <td>165882</td>\n",
       "      <td>Trans American 2775 Broadway</td>\n",
       "      <td>Trans America Express 14271 Fern</td>\n",
       "      <td>0</td>\n",
       "      <td>1.000000</td>\n",
       "      <td>True</td>\n",
       "    </tr>\n",
       "    <tr>\n",
       "      <th>1785</th>\n",
       "      <td>18633</td>\n",
       "      <td>Dongguan Humen Great Trade Contaner Port Co., ...</td>\n",
       "      <td>Dongguan Zhen Yang Toy Co., Ltd.</td>\n",
       "      <td>0</td>\n",
       "      <td>0.999993</td>\n",
       "      <td>True</td>\n",
       "    </tr>\n",
       "    <tr>\n",
       "      <th>1806</th>\n",
       "      <td>244668</td>\n",
       "      <td>Dongguan Chaori Precision Rubber Products Co.,...</td>\n",
       "      <td>Dongguan China B Rubber Products Co., Ltd.</td>\n",
       "      <td>0</td>\n",
       "      <td>0.999999</td>\n",
       "      <td>True</td>\n",
       "    </tr>\n",
       "    <tr>\n",
       "      <th>2161</th>\n",
       "      <td>233071</td>\n",
       "      <td>Global Express C.A.</td>\n",
       "      <td>Global Tex</td>\n",
       "      <td>0</td>\n",
       "      <td>0.999980</td>\n",
       "      <td>True</td>\n",
       "    </tr>\n",
       "    <tr>\n",
       "      <th>2207</th>\n",
       "      <td>467897</td>\n",
       "      <td>Dhl Keels (Pvt) Ltd.</td>\n",
       "      <td>Dhl Logistics (Brazil) Ltda</td>\n",
       "      <td>0</td>\n",
       "      <td>0.999919</td>\n",
       "      <td>True</td>\n",
       "    </tr>\n",
       "    <tr>\n",
       "      <th>2284</th>\n",
       "      <td>192405</td>\n",
       "      <td>Avk International A/S ( St2)</td>\n",
       "      <td>Avk International A/S.</td>\n",
       "      <td>0</td>\n",
       "      <td>0.999999</td>\n",
       "      <td>True</td>\n",
       "    </tr>\n",
       "    <tr>\n",
       "      <th>2309</th>\n",
       "      <td>246084</td>\n",
       "      <td>Alma Sa</td>\n",
       "      <td>Alwadaah Trading And Services Co.</td>\n",
       "      <td>0</td>\n",
       "      <td>0.999989</td>\n",
       "      <td>True</td>\n",
       "    </tr>\n",
       "    <tr>\n",
       "      <th>2451</th>\n",
       "      <td>373720</td>\n",
       "      <td>To The Order Of Sampath</td>\n",
       "      <td>To The Order Of</td>\n",
       "      <td>0</td>\n",
       "      <td>1.000000</td>\n",
       "      <td>True</td>\n",
       "    </tr>\n",
       "    <tr>\n",
       "      <th>2541</th>\n",
       "      <td>336092</td>\n",
       "      <td>National Co. For Spinning &amp; Weaving</td>\n",
       "      <td>National Fence Co.</td>\n",
       "      <td>0</td>\n",
       "      <td>0.999999</td>\n",
       "      <td>True</td>\n",
       "    </tr>\n",
       "    <tr>\n",
       "      <th>2582</th>\n",
       "      <td>103608</td>\n",
       "      <td>Indo Gulf</td>\n",
       "      <td>Indaco Sp A</td>\n",
       "      <td>0</td>\n",
       "      <td>0.999948</td>\n",
       "      <td>True</td>\n",
       "    </tr>\n",
       "    <tr>\n",
       "      <th>2597</th>\n",
       "      <td>128076</td>\n",
       "      <td>D S International</td>\n",
       "      <td>Delta Shoes Pvt., Ltd.</td>\n",
       "      <td>0</td>\n",
       "      <td>0.999959</td>\n",
       "      <td>True</td>\n",
       "    </tr>\n",
       "    <tr>\n",
       "      <th>2623</th>\n",
       "      <td>98790</td>\n",
       "      <td>Jama</td>\n",
       "      <td>Jagadamba Synthetics Pvt., Ltd.</td>\n",
       "      <td>0</td>\n",
       "      <td>0.999997</td>\n",
       "      <td>True</td>\n",
       "    </tr>\n",
       "    <tr>\n",
       "      <th>2672</th>\n",
       "      <td>3553</td>\n",
       "      <td>Al Adwani National Co.</td>\n",
       "      <td>Al Ashwal Co.</td>\n",
       "      <td>0</td>\n",
       "      <td>1.000000</td>\n",
       "      <td>True</td>\n",
       "    </tr>\n",
       "    <tr>\n",
       "      <th>2763</th>\n",
       "      <td>199726</td>\n",
       "      <td>Shenzhen Xincang Plastic Article Co.</td>\n",
       "      <td>Shenzhen Losang Plastic Mold And Injection Co....</td>\n",
       "      <td>0</td>\n",
       "      <td>0.999989</td>\n",
       "      <td>True</td>\n",
       "    </tr>\n",
       "    <tr>\n",
       "      <th>2820</th>\n",
       "      <td>12875</td>\n",
       "      <td>Dongguang Fenggang Jia'an Plastics &amp; Hardware ...</td>\n",
       "      <td>Dongguan Cimtex Co., Ltd.</td>\n",
       "      <td>0</td>\n",
       "      <td>0.999944</td>\n",
       "      <td>True</td>\n",
       "    </tr>\n",
       "    <tr>\n",
       "      <th>2850</th>\n",
       "      <td>336394</td>\n",
       "      <td>Aekia S.A.</td>\n",
       "      <td>Aekia S.A. Av. Galo</td>\n",
       "      <td>0</td>\n",
       "      <td>0.999982</td>\n",
       "      <td>True</td>\n",
       "    </tr>\n",
       "    <tr>\n",
       "      <th>2948</th>\n",
       "      <td>290302</td>\n",
       "      <td>Industrias Metalicas Sudamericanas</td>\n",
       "      <td>Industrias Madetex Sas</td>\n",
       "      <td>0</td>\n",
       "      <td>0.999999</td>\n",
       "      <td>True</td>\n",
       "    </tr>\n",
       "    <tr>\n",
       "      <th>2987</th>\n",
       "      <td>160249</td>\n",
       "      <td>Cixi City Jingcheng Mould Co., Ltd.</td>\n",
       "      <td>C.J.Intl</td>\n",
       "      <td>0</td>\n",
       "      <td>0.999951</td>\n",
       "      <td>True</td>\n",
       "    </tr>\n",
       "    <tr>\n",
       "      <th>3149</th>\n",
       "      <td>340817</td>\n",
       "      <td>Dongguan Baihui Toys Co., Ltd.</td>\n",
       "      <td>Dongguan Jieshi Electronics Display Co., Ltd.</td>\n",
       "      <td>0</td>\n",
       "      <td>0.999995</td>\n",
       "      <td>True</td>\n",
       "    </tr>\n",
       "    <tr>\n",
       "      <th>3172</th>\n",
       "      <td>431544</td>\n",
       "      <td>Saint Gobain Abrasives Mexico</td>\n",
       "      <td>Saint Gobain Vietnam Ltd.</td>\n",
       "      <td>0</td>\n",
       "      <td>1.000000</td>\n",
       "      <td>True</td>\n",
       "    </tr>\n",
       "    <tr>\n",
       "      <th>3194</th>\n",
       "      <td>157611</td>\n",
       "      <td>Polymer Products. Sri Indassara</td>\n",
       "      <td>Polymer Products Of India</td>\n",
       "      <td>0</td>\n",
       "      <td>1.000000</td>\n",
       "      <td>True</td>\n",
       "    </tr>\n",
       "    <tr>\n",
       "      <th>3231</th>\n",
       "      <td>130999</td>\n",
       "      <td>Mitsubishi Electric India Pvt., Ltd.</td>\n",
       "      <td>Mitsubishi De Mexico S.A.De C.V.</td>\n",
       "      <td>0</td>\n",
       "      <td>0.999977</td>\n",
       "      <td>True</td>\n",
       "    </tr>\n",
       "    <tr>\n",
       "      <th>3282</th>\n",
       "      <td>450700</td>\n",
       "      <td>Industrial Y Comercial Rio Bravo Sa De Cv</td>\n",
       "      <td>Industria &amp; Comercio De Meias Elasticas Realte...</td>\n",
       "      <td>0</td>\n",
       "      <td>0.999963</td>\n",
       "      <td>True</td>\n",
       "    </tr>\n",
       "    <tr>\n",
       "      <th>3303</th>\n",
       "      <td>279648</td>\n",
       "      <td>Industrias Noramex S.A. De C.V.</td>\n",
       "      <td>Industrias Tenazit Sa De Cv</td>\n",
       "      <td>0</td>\n",
       "      <td>0.999998</td>\n",
       "      <td>True</td>\n",
       "    </tr>\n",
       "    <tr>\n",
       "      <th>3367</th>\n",
       "      <td>268133</td>\n",
       "      <td>Continental Reifen Deutschland Gmb H</td>\n",
       "      <td>Continental Air Control (Pvt) Ltd.</td>\n",
       "      <td>0</td>\n",
       "      <td>0.999994</td>\n",
       "      <td>True</td>\n",
       "    </tr>\n",
       "    <tr>\n",
       "      <th>3379</th>\n",
       "      <td>387384</td>\n",
       "      <td>Alxrma Trading Co.</td>\n",
       "      <td>Al Kehilah Trading Est</td>\n",
       "      <td>0</td>\n",
       "      <td>0.999989</td>\n",
       "      <td>True</td>\n",
       "    </tr>\n",
       "  </tbody>\n",
       "</table>\n",
       "</div>"
      ],
      "text/plain": [
       "      pair_id                                             name_1  \\\n",
       "53     365945                                         Summary Ag   \n",
       "121    117099                                     Anurun Trading   \n",
       "269    266226                               Al Basir Trading Co.   \n",
       "292    487753                     Industrial Organics (Pty) Ltd.   \n",
       "327     85479  Zhejiang Materials Industry Chemical Group Co....   \n",
       "337     40595                               Al Tec International   \n",
       "367    294648                                    To The Order Of   \n",
       "449    273778                           Commander Logistica Ltda   \n",
       "492    118451                          Alaska Rubbers Pvt., Ltd.   \n",
       "570    137967                                             Dresco   \n",
       "574    127251        Dongguan Jinggan Plastic Products Co., Ltd.   \n",
       "577     20958                     Comercializadora International   \n",
       "646    393591                     Saint Gobain Vietnam Co., Ltd.   \n",
       "804    477222                        Breakthru Beverage Maryland   \n",
       "983    218273                     Industrias Cazel S De Rl De Cv   \n",
       "1028    14086           Bluestar Technology (Shenzhen) Co., Ltd.   \n",
       "1186   356872                 Polimer Kaucuk Sanayi Ve Pazarlama   \n",
       "1206   127177                         To The Order Of Commercial   \n",
       "1213   294391                                     Bank Asia Ltd.   \n",
       "1272    83006                Dongguan Zhaojing Trading Co., Ltd.   \n",
       "1275   449961                        Continental Tire Chile Sp A   \n",
       "1473   233344                Tecnologia En Transportede Minerale   \n",
       "1511   374571                      Arlanxeo Singapore Pte., Ltd.   \n",
       "1515    29236                                  Ansell Healthcare   \n",
       "1583   165882                       Trans American 2775 Broadway   \n",
       "1785    18633  Dongguan Humen Great Trade Contaner Port Co., ...   \n",
       "1806   244668  Dongguan Chaori Precision Rubber Products Co.,...   \n",
       "2161   233071                                Global Express C.A.   \n",
       "2207   467897                               Dhl Keels (Pvt) Ltd.   \n",
       "2284   192405                       Avk International A/S ( St2)   \n",
       "2309   246084                                            Alma Sa   \n",
       "2451   373720                            To The Order Of Sampath   \n",
       "2541   336092                National Co. For Spinning & Weaving   \n",
       "2582   103608                                          Indo Gulf   \n",
       "2597   128076                                  D S International   \n",
       "2623    98790                                               Jama   \n",
       "2672     3553                             Al Adwani National Co.   \n",
       "2763   199726               Shenzhen Xincang Plastic Article Co.   \n",
       "2820    12875  Dongguang Fenggang Jia'an Plastics & Hardware ...   \n",
       "2850   336394                                         Aekia S.A.   \n",
       "2948   290302                 Industrias Metalicas Sudamericanas   \n",
       "2987   160249                Cixi City Jingcheng Mould Co., Ltd.   \n",
       "3149   340817                     Dongguan Baihui Toys Co., Ltd.   \n",
       "3172   431544                      Saint Gobain Abrasives Mexico   \n",
       "3194   157611                    Polymer Products. Sri Indassara   \n",
       "3231   130999               Mitsubishi Electric India Pvt., Ltd.   \n",
       "3282   450700          Industrial Y Comercial Rio Bravo Sa De Cv   \n",
       "3303   279648                    Industrias Noramex S.A. De C.V.   \n",
       "3367   268133               Continental Reifen Deutschland Gmb H   \n",
       "3379   387384                                 Alxrma Trading Co.   \n",
       "\n",
       "                                                 name_2  is_duplicate  \\\n",
       "53                                  Summa Sistemas C. A             0   \n",
       "121                    Arabian Darb General Trading And             0   \n",
       "269                               Al Huda Shoes Trading             0   \n",
       "292                         Industrias Tuk S.A. De C.V.             0   \n",
       "327                            Zhejiang Mingri Holdings             0   \n",
       "337                                Alex Extrusions Ltd.             0   \n",
       "367                    To Order Notify:Africa Agri Tech             0   \n",
       "449             Commerce Logistics (Shanghai) Co., Ltd.             0   \n",
       "492                 Anand Chemicals & Rubber Pvt., Ltd.             0   \n",
       "570                               Dls Comercial E.I.R.L             0   \n",
       "574                           Dongguan Cimtex Co., Ltd.             0   \n",
       "577        Comercializadora Universal Kimu S.A. De C.V.             0   \n",
       "646                 Saint Gobain Abrasives (Shanghai) C             0   \n",
       "804                               Breakthru Beverage De             0   \n",
       "983                   Industrias De Hule Galgo Sa De Cv             0   \n",
       "1028                       Blk International (Pty) Ltd.             0   \n",
       "1186                         Polimeros Basicos Sa De Cv             0   \n",
       "1206               To The Order Of Mercantile Bank Ltd.             0   \n",
       "1213                                    Bank Of America             0   \n",
       "1272                       Dongguan Daou Trade Ltd. Co.             0   \n",
       "1275                          Continental Tire D Mexico             0   \n",
       "1473                                      Tecnocal S.A.             0   \n",
       "1511                       Anixter Singapore Pte., Ltd.             0   \n",
       "1515                            Ansell Lanka (Pvt) Ltd.             0   \n",
       "1583                   Trans America Express 14271 Fern             0   \n",
       "1785                   Dongguan Zhen Yang Toy Co., Ltd.             0   \n",
       "1806         Dongguan China B Rubber Products Co., Ltd.             0   \n",
       "2161                                         Global Tex             0   \n",
       "2207                        Dhl Logistics (Brazil) Ltda             0   \n",
       "2284                             Avk International A/S.             0   \n",
       "2309                  Alwadaah Trading And Services Co.             0   \n",
       "2451                                    To The Order Of             0   \n",
       "2541                                 National Fence Co.             0   \n",
       "2582                                        Indaco Sp A             0   \n",
       "2597                             Delta Shoes Pvt., Ltd.             0   \n",
       "2623                    Jagadamba Synthetics Pvt., Ltd.             0   \n",
       "2672                                      Al Ashwal Co.             0   \n",
       "2763  Shenzhen Losang Plastic Mold And Injection Co....             0   \n",
       "2820                          Dongguan Cimtex Co., Ltd.             0   \n",
       "2850                                Aekia S.A. Av. Galo             0   \n",
       "2948                             Industrias Madetex Sas             0   \n",
       "2987                                           C.J.Intl             0   \n",
       "3149      Dongguan Jieshi Electronics Display Co., Ltd.             0   \n",
       "3172                          Saint Gobain Vietnam Ltd.             0   \n",
       "3194                          Polymer Products Of India             0   \n",
       "3231                   Mitsubishi De Mexico S.A.De C.V.             0   \n",
       "3282  Industria & Comercio De Meias Elasticas Realte...             0   \n",
       "3303                        Industrias Tenazit Sa De Cv             0   \n",
       "3367                 Continental Air Control (Pvt) Ltd.             0   \n",
       "3379                             Al Kehilah Trading Est             0   \n",
       "\n",
       "      distance  pred  \n",
       "53    0.999993  True  \n",
       "121   0.999952  True  \n",
       "269   0.999985  True  \n",
       "292   0.999982  True  \n",
       "327   0.999995  True  \n",
       "337   0.999999  True  \n",
       "367   0.999937  True  \n",
       "449   0.999986  True  \n",
       "492   0.999995  True  \n",
       "570   0.999989  True  \n",
       "574   0.999987  True  \n",
       "577   1.000000  True  \n",
       "646   1.000000  True  \n",
       "804   1.000000  True  \n",
       "983   0.999999  True  \n",
       "1028  0.999965  True  \n",
       "1186  0.999983  True  \n",
       "1206  1.000000  True  \n",
       "1213  1.000000  True  \n",
       "1272  0.999952  True  \n",
       "1275  1.000000  True  \n",
       "1473  0.999955  True  \n",
       "1511  0.999922  True  \n",
       "1515  1.000000  True  \n",
       "1583  1.000000  True  \n",
       "1785  0.999993  True  \n",
       "1806  0.999999  True  \n",
       "2161  0.999980  True  \n",
       "2207  0.999919  True  \n",
       "2284  0.999999  True  \n",
       "2309  0.999989  True  \n",
       "2451  1.000000  True  \n",
       "2541  0.999999  True  \n",
       "2582  0.999948  True  \n",
       "2597  0.999959  True  \n",
       "2623  0.999997  True  \n",
       "2672  1.000000  True  \n",
       "2763  0.999989  True  \n",
       "2820  0.999944  True  \n",
       "2850  0.999982  True  \n",
       "2948  0.999999  True  \n",
       "2987  0.999951  True  \n",
       "3149  0.999995  True  \n",
       "3172  1.000000  True  \n",
       "3194  1.000000  True  \n",
       "3231  0.999977  True  \n",
       "3282  0.999963  True  \n",
       "3303  0.999998  True  \n",
       "3367  0.999994  True  \n",
       "3379  0.999989  True  "
      ]
     },
     "execution_count": 97,
     "metadata": {},
     "output_type": "execute_result"
    }
   ],
   "source": [
    "test[(test['is_duplicate'] == 0) & test['pred']].head(50)"
   ]
  },
  {
   "cell_type": "code",
   "execution_count": null,
   "id": "4cb09e07-2949-47ef-836c-a08f589e8e5f",
   "metadata": {},
   "outputs": [],
   "source": []
  }
 ],
 "metadata": {
  "kernelspec": {
   "display_name": "Python 3 (ipykernel)",
   "language": "python",
   "name": "python3"
  },
  "language_info": {
   "codemirror_mode": {
    "name": "ipython",
    "version": 3
   },
   "file_extension": ".py",
   "mimetype": "text/x-python",
   "name": "python",
   "nbconvert_exporter": "python",
   "pygments_lexer": "ipython3",
   "version": "3.10.7"
  }
 },
 "nbformat": 4,
 "nbformat_minor": 5
}
