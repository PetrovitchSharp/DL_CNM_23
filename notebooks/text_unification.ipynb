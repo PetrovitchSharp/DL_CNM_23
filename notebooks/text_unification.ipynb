{
    "cells": [
        {
            "cell_type": "markdown",
            "id": "5a52f912",
            "metadata": {},
            "source": [
                "# Попытка унифицировать данные перед дальнейшей их обработкой"
            ]
        },
        {
            "cell_type": "code",
            "execution_count": 165,
            "id": "d6e81cce",
            "metadata": {},
            "outputs": [],
            "source": [
                "import pandas as pd\n",
                "import numpy as np"
            ]
        },
        {
            "cell_type": "code",
            "execution_count": 1,
            "id": "3dd7bdde",
            "metadata": {},
            "outputs": [],
            "source": [
                "def clean_and_concat(dirty_string: str) -> str:\n",
                "    '''\n",
                "    Clearing a string of characters \n",
                "    that are not numbers or letters\n",
                "    \n",
                "    Args:\n",
                "        dirty_string: 'Dirty' string\n",
                "    \n",
                "    Returns:\n",
                "        String contains only letters and numbers\n",
                "    '''\n",
                "    res = ''\n",
                "    for char in dirty_string:\n",
                "        if str.isalnum(char):\n",
                "            res += char\n",
                "            \n",
                "    return res\n"
            ]
        },
        {
            "cell_type": "code",
            "execution_count": 182,
            "id": "da189a76",
            "metadata": {},
            "outputs": [],
            "source": [
                "def transliterate(text: str) -> str:\n",
                "    '''\n",
                "    Transliteration from Russian to English letters\n",
                "    \n",
                "    Args:\n",
                "        text: Text to be transliterated\n",
                "    \n",
                "    Returns:\n",
                "        Text in which all Russian letters are replaced \n",
                "        with their English counterparts\n",
                "    '''\n",
                "    \n",
                "    # List of all Russian letters\n",
                "    rus = list('ёйцукенгшщзхъфывапролджэячсмитьбю')\n",
                "    \n",
                "    res = ''\n",
                "    \n",
                "    # Matching of Russian and English letters \n",
                "    mapper = {\n",
                "        'ё': 'yo',\n",
                "        'й': 'y',\n",
                "        'ц': 'ts',\n",
                "        'у': 'u',\n",
                "        'к': 'k',\n",
                "        'е': 'e',\n",
                "        'н': 'n',\n",
                "        'г': 'g',\n",
                "        'ш': 'sh',\n",
                "        'щ': 'shch',\n",
                "        'з': 'z',\n",
                "        'х': 'kh',\n",
                "        'ъ': '',\n",
                "        'ф': 'f',\n",
                "        'ы': 'y',\n",
                "        'в': 'v',\n",
                "        'а': 'a',\n",
                "        'п': 'p',\n",
                "        'р': 'r',\n",
                "        'о': 'o',\n",
                "        'л': 'l',\n",
                "        'д': 'd',\n",
                "        'ж': 'zh',\n",
                "        'э': 'e',\n",
                "        'я': 'ya',\n",
                "        'ч': 'ch',\n",
                "        'с': 's',\n",
                "        'м': 'm',\n",
                "        'и': 'i',\n",
                "        'т': 't',\n",
                "        'ь': '',\n",
                "        'б': 'b',\n",
                "        'ю': 'yu'\n",
                "    }\n",
                "\n",
                "    if np.isin(list(text),rus).any(): \n",
                "        res = ''.join(\n",
                "            [mapper.get(char, char) for char in text]\n",
                "        )\n",
                "        return res\n",
                "           \n",
                "    # If text doesn't contain Russian \n",
                "    # letters return original text\n",
                "    return text"
            ]
        },
        {
            "cell_type": "code",
            "execution_count": 169,
            "id": "b4534fff",
            "metadata": {},
            "outputs": [],
            "source": [
                "data = pd.read_csv(\n",
                "    '../data/raw/train.csv',\n",
                "     index_col='pair_id'\n",
                ")"
            ]
        },
        {
            "cell_type": "code",
            "execution_count": 170,
            "id": "0a6666dc",
            "metadata": {},
            "outputs": [],
            "source": [
                "# Lowercase translation for ease of processing\n",
                "data.name_1 = data.name_1\\\n",
                "    .apply(str.lower)\n",
                "data.name_2 = data.name_2\\\n",
                "    .apply(str.lower)"
            ]
        },
        {
            "cell_type": "code",
            "execution_count": 171,
            "id": "5c6fdbf8",
            "metadata": {},
            "outputs": [],
            "source": [
                "# Transliteraion\n",
                "data['transliterated_name_1'] = data.name_1\\\n",
                "    .apply(transliterate)\n",
                "data['transliterated_name_2'] = data.name_2\\\n",
                "    .apply(transliterate)"
            ]
        },
        {
            "cell_type": "code",
            "execution_count": 172,
            "id": "83b2dfd8",
            "metadata": {},
            "outputs": [],
            "source": [
                "# Cleaning and concatenation\n",
                "data['concated_name_1'] = data.transliterated_name_1\\\n",
                "    .apply(clean_and_concat)\n",
                "data['concated_name_2'] = data.transliterated_name_2\\\n",
                "    .apply(clean_and_concat)"
            ]
        },
        {
            "cell_type": "code",
            "execution_count": 180,
            "id": "89a9f746",
            "metadata": {},
            "outputs": [],
            "source": [
                "# Saving of preprocessed dataset\n",
                "data.to_csv('../data/processed/unificated_train.csv')"
            ]
        },
        {
            "cell_type": "code",
            "execution_count": null,
            "id": "fd2fc3fa",
            "metadata": {},
            "outputs": [],
            "source": []
        }
    ],
    "metadata": {
        "kernelspec": {
            "display_name": "Python 3.10.5 64-bit",
            "language": "python",
            "name": "python3"
        },
        "language_info": {
            "codemirror_mode": {
                "name": "ipython",
                "version": 3
            },
            "file_extension": ".py",
            "mimetype": "text/x-python",
            "name": "python",
            "nbconvert_exporter": "python",
            "pygments_lexer": "ipython3",
            "version": "3.10.5"
        },
        "vscode": {
            "interpreter": {
                "hash": "9b4d75ac280b6c7c3aa43866cb82dc88915409b55fec83a093dd0284cb58708e"
            }
        }
    },
    "nbformat": 4,
    "nbformat_minor": 5
}
